{
  "nbformat": 4,
  "nbformat_minor": 0,
  "metadata": {
    "colab": {
      "name": "Cyclistic.ipynb",
      "provenance": [],
      "authorship_tag": "ABX9TyM0exRBQpEBpVEEr/PV7lCH",
      "include_colab_link": true
    },
    "kernelspec": {
      "name": "python3",
      "display_name": "Python 3"
    },
    "language_info": {
      "name": "python"
    }
  },
  "cells": [
    {
      "cell_type": "markdown",
      "metadata": {
        "id": "view-in-github",
        "colab_type": "text"
      },
      "source": [
        "<a href=\"https://colab.research.google.com/github/Ekram49/Capstone_cyclistic/blob/main/Cyclistic.ipynb\" target=\"_parent\"><img src=\"https://colab.research.google.com/assets/colab-badge.svg\" alt=\"Open In Colab\"/></a>"
      ]
    },
    {
      "cell_type": "markdown",
      "metadata": {
        "id": "jEHm0WHOynGu"
      },
      "source": [
        "# Introduction\n",
        "Welcome to the Cyclistic bike-share analysis case study notebook!. In this notebook I've analyzed Cyclistic customer datasets to answer few key questions\n",
        "\n",
        "\n",
        "*   How do annual members and casual riders use Cyclistic bikes differently?\n",
        "*   Why would casual riders buy Cyclistic annual memberships?\n",
        "*   How can Cyclistic use digital media to influence casual riders to become members?\n",
        "\n",
        "\n",
        "\n"
      ]
    },
    {
      "cell_type": "markdown",
      "metadata": {
        "id": "FpQvwOvx0E4H"
      },
      "source": [
        "**Importing necessary libraries**"
      ]
    },
    {
      "cell_type": "code",
      "metadata": {
        "id": "jSq7lRtXvm4y"
      },
      "source": [
        "import pandas as pd\n",
        "import numpy as np\n",
        "import matplotlib.pyplot as plt\n"
      ],
      "execution_count": null,
      "outputs": []
    },
    {
      "cell_type": "markdown",
      "metadata": {
        "id": "zHeo9eDQ2ZIr"
      },
      "source": [
        "# preparing the datasets"
      ]
    },
    {
      "cell_type": "markdown",
      "metadata": {
        "id": "Zv7oGzNd0N3W"
      },
      "source": [
        "**Importing all the datasets**"
      ]
    },
    {
      "cell_type": "code",
      "metadata": {
        "id": "1XxgfaEEnNBq"
      },
      "source": [
        "df_q1_2018 = pd.read_csv('Divvy_Trips_2018_Q1.csv')\n",
        "df_q2_2018 = pd.read_csv('Divvy_Trips_2018_Q2.csv')\n",
        "df_q3_2018 = pd.read_csv('Divvy_Trips_2018_Q3.csv')\n",
        "df_q4_2018 = pd.read_csv('Divvy_Trips_2018_Q4.csv')"
      ],
      "execution_count": null,
      "outputs": []
    },
    {
      "cell_type": "markdown",
      "metadata": {
        "id": "JUMK_64h0W1D"
      },
      "source": [
        "**Inconsistencies in labels**\n",
        "\n",
        "I checked all the datasets and found out that the column names of Q1 data doesn't match with other datasets."
      ]
    },
    {
      "cell_type": "code",
      "metadata": {
        "colab": {
          "base_uri": "https://localhost:8080/",
          "height": 251
        },
        "id": "sEr4trrLyeBo",
        "outputId": "14f9dac6-b647-4363-e2e2-94954385fb22"
      },
      "source": [
        "df_q1_2018.head(1)"
      ],
      "execution_count": null,
      "outputs": [
        {
          "output_type": "execute_result",
          "data": {
            "text/html": [
              "<div>\n",
              "<style scoped>\n",
              "    .dataframe tbody tr th:only-of-type {\n",
              "        vertical-align: middle;\n",
              "    }\n",
              "\n",
              "    .dataframe tbody tr th {\n",
              "        vertical-align: top;\n",
              "    }\n",
              "\n",
              "    .dataframe thead th {\n",
              "        text-align: right;\n",
              "    }\n",
              "</style>\n",
              "<table border=\"1\" class=\"dataframe\">\n",
              "  <thead>\n",
              "    <tr style=\"text-align: right;\">\n",
              "      <th></th>\n",
              "      <th>01 - Rental Details Rental ID</th>\n",
              "      <th>01 - Rental Details Local Start Time</th>\n",
              "      <th>01 - Rental Details Local End Time</th>\n",
              "      <th>01 - Rental Details Bike ID</th>\n",
              "      <th>01 - Rental Details Duration In Seconds Uncapped</th>\n",
              "      <th>03 - Rental Start Station ID</th>\n",
              "      <th>03 - Rental Start Station Name</th>\n",
              "      <th>02 - Rental End Station ID</th>\n",
              "      <th>02 - Rental End Station Name</th>\n",
              "      <th>User Type</th>\n",
              "      <th>Member Gender</th>\n",
              "      <th>05 - Member Details Member Birthday Year</th>\n",
              "    </tr>\n",
              "  </thead>\n",
              "  <tbody>\n",
              "    <tr>\n",
              "      <th>0</th>\n",
              "      <td>17536702</td>\n",
              "      <td>2018-01-01 00:12:00</td>\n",
              "      <td>2018-01-01 00:17:23</td>\n",
              "      <td>3304</td>\n",
              "      <td>323.0</td>\n",
              "      <td>69</td>\n",
              "      <td>Damen Ave &amp; Pierce Ave</td>\n",
              "      <td>159</td>\n",
              "      <td>Claremont Ave &amp; Hirsch St</td>\n",
              "      <td>Subscriber</td>\n",
              "      <td>Male</td>\n",
              "      <td>1988.0</td>\n",
              "    </tr>\n",
              "  </tbody>\n",
              "</table>\n",
              "</div>"
            ],
            "text/plain": [
              "   01 - Rental Details Rental ID  ... 05 - Member Details Member Birthday Year\n",
              "0                       17536702  ...                                   1988.0\n",
              "\n",
              "[1 rows x 12 columns]"
            ]
          },
          "metadata": {
            "tags": []
          },
          "execution_count": 3
        }
      ]
    },
    {
      "cell_type": "markdown",
      "metadata": {
        "id": "I7Keadqv1JiD"
      },
      "source": [
        "So I fixed the column names to maintain consistencies in all datasets"
      ]
    },
    {
      "cell_type": "code",
      "metadata": {
        "id": "BXMcEg3TorNI"
      },
      "source": [
        "df_q1_2018 = df_q1_2018.set_axis(['trip_id', 'start_time', 'end_time', 'bikeid', 'tripduration',\n",
        "                                  'from_station_id', 'from_station_name', 'to_station_id',\n",
        "                                  'to_station_name', 'usertype', 'gender', 'birthyear'], axis=1, inplace=False)"
      ],
      "execution_count": null,
      "outputs": []
    },
    {
      "cell_type": "markdown",
      "metadata": {
        "id": "uwTch1gv1sA7"
      },
      "source": [
        "**Double checking all the datasets to ensure they are ready to be concatenated**"
      ]
    },
    {
      "cell_type": "code",
      "metadata": {
        "colab": {
          "base_uri": "https://localhost:8080/",
          "height": 134
        },
        "id": "buGx2Wdl7Sd3",
        "outputId": "63c3e5ce-2c1e-448b-f6cd-292f81a3d52a"
      },
      "source": [
        "df_q1_2018.tail(1)"
      ],
      "execution_count": null,
      "outputs": [
        {
          "output_type": "execute_result",
          "data": {
            "text/html": [
              "<div>\n",
              "<style scoped>\n",
              "    .dataframe tbody tr th:only-of-type {\n",
              "        vertical-align: middle;\n",
              "    }\n",
              "\n",
              "    .dataframe tbody tr th {\n",
              "        vertical-align: top;\n",
              "    }\n",
              "\n",
              "    .dataframe thead th {\n",
              "        text-align: right;\n",
              "    }\n",
              "</style>\n",
              "<table border=\"1\" class=\"dataframe\">\n",
              "  <thead>\n",
              "    <tr style=\"text-align: right;\">\n",
              "      <th></th>\n",
              "      <th>trip_id</th>\n",
              "      <th>start_time</th>\n",
              "      <th>end_time</th>\n",
              "      <th>bikeid</th>\n",
              "      <th>tripduration</th>\n",
              "      <th>from_station_id</th>\n",
              "      <th>from_station_name</th>\n",
              "      <th>to_station_id</th>\n",
              "      <th>to_station_name</th>\n",
              "      <th>usertype</th>\n",
              "      <th>gender</th>\n",
              "      <th>birthyear</th>\n",
              "    </tr>\n",
              "  </thead>\n",
              "  <tbody>\n",
              "    <tr>\n",
              "      <th>387144</th>\n",
              "      <td>18000526</td>\n",
              "      <td>2018-03-31 23:53:38</td>\n",
              "      <td>2018-04-01 00:03:08</td>\n",
              "      <td>2769</td>\n",
              "      <td>570.0</td>\n",
              "      <td>485</td>\n",
              "      <td>Sawyer Ave &amp; Irving Park Rd</td>\n",
              "      <td>475</td>\n",
              "      <td>Washtenaw Ave &amp; Lawrence Ave</td>\n",
              "      <td>Subscriber</td>\n",
              "      <td>Male</td>\n",
              "      <td>1991.0</td>\n",
              "    </tr>\n",
              "  </tbody>\n",
              "</table>\n",
              "</div>"
            ],
            "text/plain": [
              "         trip_id           start_time  ... gender  birthyear\n",
              "387144  18000526  2018-03-31 23:53:38  ...   Male     1991.0\n",
              "\n",
              "[1 rows x 12 columns]"
            ]
          },
          "metadata": {
            "tags": []
          },
          "execution_count": 5
        }
      ]
    },
    {
      "cell_type": "code",
      "metadata": {
        "colab": {
          "base_uri": "https://localhost:8080/"
        },
        "id": "a92VIMbt8LCX",
        "outputId": "b094f7b6-baa4-485c-b4ed-69ca70fffd12"
      },
      "source": [
        "df_q1_2018.columns"
      ],
      "execution_count": null,
      "outputs": [
        {
          "output_type": "execute_result",
          "data": {
            "text/plain": [
              "Index(['trip_id', 'start_time', 'end_time', 'bikeid', 'tripduration',\n",
              "       'from_station_id', 'from_station_name', 'to_station_id',\n",
              "       'to_station_name', 'usertype', 'gender', 'birthyear'],\n",
              "      dtype='object')"
            ]
          },
          "metadata": {
            "tags": []
          },
          "execution_count": 6
        }
      ]
    },
    {
      "cell_type": "code",
      "metadata": {
        "colab": {
          "base_uri": "https://localhost:8080/",
          "height": 391
        },
        "id": "QSwMTSNT1nkR",
        "outputId": "6b4bc972-3b49-4a9c-aad7-19d0ac18d563"
      },
      "source": [
        "df_q2_2018.head()"
      ],
      "execution_count": null,
      "outputs": [
        {
          "output_type": "execute_result",
          "data": {
            "text/html": [
              "<div>\n",
              "<style scoped>\n",
              "    .dataframe tbody tr th:only-of-type {\n",
              "        vertical-align: middle;\n",
              "    }\n",
              "\n",
              "    .dataframe tbody tr th {\n",
              "        vertical-align: top;\n",
              "    }\n",
              "\n",
              "    .dataframe thead th {\n",
              "        text-align: right;\n",
              "    }\n",
              "</style>\n",
              "<table border=\"1\" class=\"dataframe\">\n",
              "  <thead>\n",
              "    <tr style=\"text-align: right;\">\n",
              "      <th></th>\n",
              "      <th>trip_id</th>\n",
              "      <th>start_time</th>\n",
              "      <th>end_time</th>\n",
              "      <th>bikeid</th>\n",
              "      <th>tripduration</th>\n",
              "      <th>from_station_id</th>\n",
              "      <th>from_station_name</th>\n",
              "      <th>to_station_id</th>\n",
              "      <th>to_station_name</th>\n",
              "      <th>usertype</th>\n",
              "      <th>gender</th>\n",
              "      <th>birthyear</th>\n",
              "    </tr>\n",
              "  </thead>\n",
              "  <tbody>\n",
              "    <tr>\n",
              "      <th>0</th>\n",
              "      <td>18000527</td>\n",
              "      <td>2018-04-01 00:04:44</td>\n",
              "      <td>2018-04-01 00:13:03</td>\n",
              "      <td>3819</td>\n",
              "      <td>499.0</td>\n",
              "      <td>22</td>\n",
              "      <td>May St &amp; Taylor St</td>\n",
              "      <td>171</td>\n",
              "      <td>May St &amp; Cullerton St</td>\n",
              "      <td>Subscriber</td>\n",
              "      <td>Male</td>\n",
              "      <td>1994.0</td>\n",
              "    </tr>\n",
              "    <tr>\n",
              "      <th>1</th>\n",
              "      <td>18000528</td>\n",
              "      <td>2018-04-01 00:06:42</td>\n",
              "      <td>2018-04-01 00:27:07</td>\n",
              "      <td>5000</td>\n",
              "      <td>1,225.0</td>\n",
              "      <td>157</td>\n",
              "      <td>Lake Shore Dr &amp; Wellington Ave</td>\n",
              "      <td>190</td>\n",
              "      <td>Southport Ave &amp; Wrightwood Ave</td>\n",
              "      <td>Subscriber</td>\n",
              "      <td>Male</td>\n",
              "      <td>1965.0</td>\n",
              "    </tr>\n",
              "    <tr>\n",
              "      <th>2</th>\n",
              "      <td>18000529</td>\n",
              "      <td>2018-04-01 00:07:19</td>\n",
              "      <td>2018-04-01 00:23:19</td>\n",
              "      <td>5165</td>\n",
              "      <td>960.0</td>\n",
              "      <td>106</td>\n",
              "      <td>State St &amp; Pearson St</td>\n",
              "      <td>106</td>\n",
              "      <td>State St &amp; Pearson St</td>\n",
              "      <td>Customer</td>\n",
              "      <td>NaN</td>\n",
              "      <td>NaN</td>\n",
              "    </tr>\n",
              "    <tr>\n",
              "      <th>3</th>\n",
              "      <td>18000530</td>\n",
              "      <td>2018-04-01 00:07:33</td>\n",
              "      <td>2018-04-01 00:14:47</td>\n",
              "      <td>3851</td>\n",
              "      <td>434.0</td>\n",
              "      <td>241</td>\n",
              "      <td>Morgan St &amp; Polk St</td>\n",
              "      <td>171</td>\n",
              "      <td>May St &amp; Cullerton St</td>\n",
              "      <td>Subscriber</td>\n",
              "      <td>Male</td>\n",
              "      <td>1998.0</td>\n",
              "    </tr>\n",
              "    <tr>\n",
              "      <th>4</th>\n",
              "      <td>18000531</td>\n",
              "      <td>2018-04-01 00:10:23</td>\n",
              "      <td>2018-04-01 00:22:12</td>\n",
              "      <td>5065</td>\n",
              "      <td>709.0</td>\n",
              "      <td>228</td>\n",
              "      <td>Damen Ave &amp; Melrose Ave</td>\n",
              "      <td>219</td>\n",
              "      <td>Damen Ave &amp; Cortland St</td>\n",
              "      <td>Subscriber</td>\n",
              "      <td>Male</td>\n",
              "      <td>1983.0</td>\n",
              "    </tr>\n",
              "  </tbody>\n",
              "</table>\n",
              "</div>"
            ],
            "text/plain": [
              "    trip_id           start_time  ... gender  birthyear\n",
              "0  18000527  2018-04-01 00:04:44  ...   Male     1994.0\n",
              "1  18000528  2018-04-01 00:06:42  ...   Male     1965.0\n",
              "2  18000529  2018-04-01 00:07:19  ...    NaN        NaN\n",
              "3  18000530  2018-04-01 00:07:33  ...   Male     1998.0\n",
              "4  18000531  2018-04-01 00:10:23  ...   Male     1983.0\n",
              "\n",
              "[5 rows x 12 columns]"
            ]
          },
          "metadata": {
            "tags": []
          },
          "execution_count": 7
        }
      ]
    },
    {
      "cell_type": "code",
      "metadata": {
        "colab": {
          "base_uri": "https://localhost:8080/",
          "height": 134
        },
        "id": "IJkeS_oF7aXz",
        "outputId": "f22c525d-a33b-4f9b-c450-9f83ceaf9dcf"
      },
      "source": [
        "df_q2_2018.tail(1)"
      ],
      "execution_count": null,
      "outputs": [
        {
          "output_type": "execute_result",
          "data": {
            "text/html": [
              "<div>\n",
              "<style scoped>\n",
              "    .dataframe tbody tr th:only-of-type {\n",
              "        vertical-align: middle;\n",
              "    }\n",
              "\n",
              "    .dataframe tbody tr th {\n",
              "        vertical-align: top;\n",
              "    }\n",
              "\n",
              "    .dataframe thead th {\n",
              "        text-align: right;\n",
              "    }\n",
              "</style>\n",
              "<table border=\"1\" class=\"dataframe\">\n",
              "  <thead>\n",
              "    <tr style=\"text-align: right;\">\n",
              "      <th></th>\n",
              "      <th>trip_id</th>\n",
              "      <th>start_time</th>\n",
              "      <th>end_time</th>\n",
              "      <th>bikeid</th>\n",
              "      <th>tripduration</th>\n",
              "      <th>from_station_id</th>\n",
              "      <th>from_station_name</th>\n",
              "      <th>to_station_id</th>\n",
              "      <th>to_station_name</th>\n",
              "      <th>usertype</th>\n",
              "      <th>gender</th>\n",
              "      <th>birthyear</th>\n",
              "    </tr>\n",
              "  </thead>\n",
              "  <tbody>\n",
              "    <tr>\n",
              "      <th>1059680</th>\n",
              "      <td>19700927</td>\n",
              "      <td>2018-05-24 15:13:59</td>\n",
              "      <td>2018-05-24 15:18:22</td>\n",
              "      <td>2463</td>\n",
              "      <td>263.0</td>\n",
              "      <td>51</td>\n",
              "      <td>Clark St &amp; Randolph St</td>\n",
              "      <td>77</td>\n",
              "      <td>Clinton St &amp; Madison St</td>\n",
              "      <td>Subscriber</td>\n",
              "      <td>Male</td>\n",
              "      <td>1993.0</td>\n",
              "    </tr>\n",
              "  </tbody>\n",
              "</table>\n",
              "</div>"
            ],
            "text/plain": [
              "          trip_id           start_time  ... gender  birthyear\n",
              "1059680  19700927  2018-05-24 15:13:59  ...   Male     1993.0\n",
              "\n",
              "[1 rows x 12 columns]"
            ]
          },
          "metadata": {
            "tags": []
          },
          "execution_count": 8
        }
      ]
    },
    {
      "cell_type": "code",
      "metadata": {
        "colab": {
          "base_uri": "https://localhost:8080/",
          "height": 134
        },
        "id": "Wr6SRKc18cqj",
        "outputId": "7ee1162d-0d02-44ca-d975-30b5997b7a8a"
      },
      "source": [
        "df_q2_2018.head(1)"
      ],
      "execution_count": null,
      "outputs": [
        {
          "output_type": "execute_result",
          "data": {
            "text/html": [
              "<div>\n",
              "<style scoped>\n",
              "    .dataframe tbody tr th:only-of-type {\n",
              "        vertical-align: middle;\n",
              "    }\n",
              "\n",
              "    .dataframe tbody tr th {\n",
              "        vertical-align: top;\n",
              "    }\n",
              "\n",
              "    .dataframe thead th {\n",
              "        text-align: right;\n",
              "    }\n",
              "</style>\n",
              "<table border=\"1\" class=\"dataframe\">\n",
              "  <thead>\n",
              "    <tr style=\"text-align: right;\">\n",
              "      <th></th>\n",
              "      <th>trip_id</th>\n",
              "      <th>start_time</th>\n",
              "      <th>end_time</th>\n",
              "      <th>bikeid</th>\n",
              "      <th>tripduration</th>\n",
              "      <th>from_station_id</th>\n",
              "      <th>from_station_name</th>\n",
              "      <th>to_station_id</th>\n",
              "      <th>to_station_name</th>\n",
              "      <th>usertype</th>\n",
              "      <th>gender</th>\n",
              "      <th>birthyear</th>\n",
              "    </tr>\n",
              "  </thead>\n",
              "  <tbody>\n",
              "    <tr>\n",
              "      <th>0</th>\n",
              "      <td>18000527</td>\n",
              "      <td>2018-04-01 00:04:44</td>\n",
              "      <td>2018-04-01 00:13:03</td>\n",
              "      <td>3819</td>\n",
              "      <td>499.0</td>\n",
              "      <td>22</td>\n",
              "      <td>May St &amp; Taylor St</td>\n",
              "      <td>171</td>\n",
              "      <td>May St &amp; Cullerton St</td>\n",
              "      <td>Subscriber</td>\n",
              "      <td>Male</td>\n",
              "      <td>1994.0</td>\n",
              "    </tr>\n",
              "  </tbody>\n",
              "</table>\n",
              "</div>"
            ],
            "text/plain": [
              "    trip_id           start_time  ... gender  birthyear\n",
              "0  18000527  2018-04-01 00:04:44  ...   Male     1994.0\n",
              "\n",
              "[1 rows x 12 columns]"
            ]
          },
          "metadata": {
            "tags": []
          },
          "execution_count": 9
        }
      ]
    },
    {
      "cell_type": "code",
      "metadata": {
        "colab": {
          "base_uri": "https://localhost:8080/",
          "height": 134
        },
        "id": "cF6yyARr7gGd",
        "outputId": "84585e1d-10ad-4f5e-d7cf-f5650c25c824"
      },
      "source": [
        "df_q2_2018.tail(1)"
      ],
      "execution_count": null,
      "outputs": [
        {
          "output_type": "execute_result",
          "data": {
            "text/html": [
              "<div>\n",
              "<style scoped>\n",
              "    .dataframe tbody tr th:only-of-type {\n",
              "        vertical-align: middle;\n",
              "    }\n",
              "\n",
              "    .dataframe tbody tr th {\n",
              "        vertical-align: top;\n",
              "    }\n",
              "\n",
              "    .dataframe thead th {\n",
              "        text-align: right;\n",
              "    }\n",
              "</style>\n",
              "<table border=\"1\" class=\"dataframe\">\n",
              "  <thead>\n",
              "    <tr style=\"text-align: right;\">\n",
              "      <th></th>\n",
              "      <th>trip_id</th>\n",
              "      <th>start_time</th>\n",
              "      <th>end_time</th>\n",
              "      <th>bikeid</th>\n",
              "      <th>tripduration</th>\n",
              "      <th>from_station_id</th>\n",
              "      <th>from_station_name</th>\n",
              "      <th>to_station_id</th>\n",
              "      <th>to_station_name</th>\n",
              "      <th>usertype</th>\n",
              "      <th>gender</th>\n",
              "      <th>birthyear</th>\n",
              "    </tr>\n",
              "  </thead>\n",
              "  <tbody>\n",
              "    <tr>\n",
              "      <th>1059680</th>\n",
              "      <td>19700927</td>\n",
              "      <td>2018-05-24 15:13:59</td>\n",
              "      <td>2018-05-24 15:18:22</td>\n",
              "      <td>2463</td>\n",
              "      <td>263.0</td>\n",
              "      <td>51</td>\n",
              "      <td>Clark St &amp; Randolph St</td>\n",
              "      <td>77</td>\n",
              "      <td>Clinton St &amp; Madison St</td>\n",
              "      <td>Subscriber</td>\n",
              "      <td>Male</td>\n",
              "      <td>1993.0</td>\n",
              "    </tr>\n",
              "  </tbody>\n",
              "</table>\n",
              "</div>"
            ],
            "text/plain": [
              "          trip_id           start_time  ... gender  birthyear\n",
              "1059680  19700927  2018-05-24 15:13:59  ...   Male     1993.0\n",
              "\n",
              "[1 rows x 12 columns]"
            ]
          },
          "metadata": {
            "tags": []
          },
          "execution_count": 10
        }
      ]
    },
    {
      "cell_type": "code",
      "metadata": {
        "colab": {
          "base_uri": "https://localhost:8080/",
          "height": 134
        },
        "id": "Oq1yeFKg1o7S",
        "outputId": "9937c2ef-2971-4453-c8d7-f0ace5eeb5c6"
      },
      "source": [
        "df_q3_2018.head(1)"
      ],
      "execution_count": null,
      "outputs": [
        {
          "output_type": "execute_result",
          "data": {
            "text/html": [
              "<div>\n",
              "<style scoped>\n",
              "    .dataframe tbody tr th:only-of-type {\n",
              "        vertical-align: middle;\n",
              "    }\n",
              "\n",
              "    .dataframe tbody tr th {\n",
              "        vertical-align: top;\n",
              "    }\n",
              "\n",
              "    .dataframe thead th {\n",
              "        text-align: right;\n",
              "    }\n",
              "</style>\n",
              "<table border=\"1\" class=\"dataframe\">\n",
              "  <thead>\n",
              "    <tr style=\"text-align: right;\">\n",
              "      <th></th>\n",
              "      <th>trip_id</th>\n",
              "      <th>start_time</th>\n",
              "      <th>end_time</th>\n",
              "      <th>bikeid</th>\n",
              "      <th>tripduration</th>\n",
              "      <th>from_station_id</th>\n",
              "      <th>from_station_name</th>\n",
              "      <th>to_station_id</th>\n",
              "      <th>to_station_name</th>\n",
              "      <th>usertype</th>\n",
              "      <th>gender</th>\n",
              "      <th>birthyear</th>\n",
              "    </tr>\n",
              "  </thead>\n",
              "  <tbody>\n",
              "    <tr>\n",
              "      <th>0</th>\n",
              "      <td>19244622</td>\n",
              "      <td>2018-07-01 00:00:03</td>\n",
              "      <td>2018-07-01 23:56:11</td>\n",
              "      <td>5429</td>\n",
              "      <td>86,168.0</td>\n",
              "      <td>140</td>\n",
              "      <td>Dearborn Pkwy &amp; Delaware Pl</td>\n",
              "      <td>106</td>\n",
              "      <td>State St &amp; Pearson St</td>\n",
              "      <td>Customer</td>\n",
              "      <td>NaN</td>\n",
              "      <td>NaN</td>\n",
              "    </tr>\n",
              "  </tbody>\n",
              "</table>\n",
              "</div>"
            ],
            "text/plain": [
              "    trip_id           start_time  ... gender  birthyear\n",
              "0  19244622  2018-07-01 00:00:03  ...    NaN        NaN\n",
              "\n",
              "[1 rows x 12 columns]"
            ]
          },
          "metadata": {
            "tags": []
          },
          "execution_count": 11
        }
      ]
    },
    {
      "cell_type": "code",
      "metadata": {
        "colab": {
          "base_uri": "https://localhost:8080/",
          "height": 134
        },
        "id": "FSIj8YJc7zE2",
        "outputId": "555b4604-7597-4e99-ba5d-7df26c76c99a"
      },
      "source": [
        "df_q3_2018.tail(1)"
      ],
      "execution_count": null,
      "outputs": [
        {
          "output_type": "execute_result",
          "data": {
            "text/html": [
              "<div>\n",
              "<style scoped>\n",
              "    .dataframe tbody tr th:only-of-type {\n",
              "        vertical-align: middle;\n",
              "    }\n",
              "\n",
              "    .dataframe tbody tr th {\n",
              "        vertical-align: top;\n",
              "    }\n",
              "\n",
              "    .dataframe thead th {\n",
              "        text-align: right;\n",
              "    }\n",
              "</style>\n",
              "<table border=\"1\" class=\"dataframe\">\n",
              "  <thead>\n",
              "    <tr style=\"text-align: right;\">\n",
              "      <th></th>\n",
              "      <th>trip_id</th>\n",
              "      <th>start_time</th>\n",
              "      <th>end_time</th>\n",
              "      <th>bikeid</th>\n",
              "      <th>tripduration</th>\n",
              "      <th>from_station_id</th>\n",
              "      <th>from_station_name</th>\n",
              "      <th>to_station_id</th>\n",
              "      <th>to_station_name</th>\n",
              "      <th>usertype</th>\n",
              "      <th>gender</th>\n",
              "      <th>birthyear</th>\n",
              "    </tr>\n",
              "  </thead>\n",
              "  <tbody>\n",
              "    <tr>\n",
              "      <th>1513569</th>\n",
              "      <td>20983529</td>\n",
              "      <td>2018-09-30 23:59:17</td>\n",
              "      <td>2018-10-01 00:10:54</td>\n",
              "      <td>2766</td>\n",
              "      <td>697.0</td>\n",
              "      <td>220</td>\n",
              "      <td>Clark St &amp; Drummond Pl</td>\n",
              "      <td>166</td>\n",
              "      <td>Ashland Ave &amp; Wrightwood Ave</td>\n",
              "      <td>Subscriber</td>\n",
              "      <td>Female</td>\n",
              "      <td>1998.0</td>\n",
              "    </tr>\n",
              "  </tbody>\n",
              "</table>\n",
              "</div>"
            ],
            "text/plain": [
              "          trip_id           start_time  ...  gender  birthyear\n",
              "1513569  20983529  2018-09-30 23:59:17  ...  Female     1998.0\n",
              "\n",
              "[1 rows x 12 columns]"
            ]
          },
          "metadata": {
            "tags": []
          },
          "execution_count": 12
        }
      ]
    },
    {
      "cell_type": "code",
      "metadata": {
        "colab": {
          "base_uri": "https://localhost:8080/",
          "height": 134
        },
        "id": "jeIUMNcV1qUB",
        "outputId": "4ff7b055-afc4-4b7d-b242-e491cba8f066"
      },
      "source": [
        "df_q4_2018.head(1)"
      ],
      "execution_count": null,
      "outputs": [
        {
          "output_type": "execute_result",
          "data": {
            "text/html": [
              "<div>\n",
              "<style scoped>\n",
              "    .dataframe tbody tr th:only-of-type {\n",
              "        vertical-align: middle;\n",
              "    }\n",
              "\n",
              "    .dataframe tbody tr th {\n",
              "        vertical-align: top;\n",
              "    }\n",
              "\n",
              "    .dataframe thead th {\n",
              "        text-align: right;\n",
              "    }\n",
              "</style>\n",
              "<table border=\"1\" class=\"dataframe\">\n",
              "  <thead>\n",
              "    <tr style=\"text-align: right;\">\n",
              "      <th></th>\n",
              "      <th>trip_id</th>\n",
              "      <th>start_time</th>\n",
              "      <th>end_time</th>\n",
              "      <th>bikeid</th>\n",
              "      <th>tripduration</th>\n",
              "      <th>from_station_id</th>\n",
              "      <th>from_station_name</th>\n",
              "      <th>to_station_id</th>\n",
              "      <th>to_station_name</th>\n",
              "      <th>usertype</th>\n",
              "      <th>gender</th>\n",
              "      <th>birthyear</th>\n",
              "    </tr>\n",
              "  </thead>\n",
              "  <tbody>\n",
              "    <tr>\n",
              "      <th>0</th>\n",
              "      <td>20983530</td>\n",
              "      <td>2018-10-01 00:01:17</td>\n",
              "      <td>2018-10-01 00:29:35</td>\n",
              "      <td>4551</td>\n",
              "      <td>1,698.0</td>\n",
              "      <td>85</td>\n",
              "      <td>Michigan Ave &amp; Oak St</td>\n",
              "      <td>166</td>\n",
              "      <td>Ashland Ave &amp; Wrightwood Ave</td>\n",
              "      <td>Subscriber</td>\n",
              "      <td>Male</td>\n",
              "      <td>1992.0</td>\n",
              "    </tr>\n",
              "  </tbody>\n",
              "</table>\n",
              "</div>"
            ],
            "text/plain": [
              "    trip_id           start_time  ... gender  birthyear\n",
              "0  20983530  2018-10-01 00:01:17  ...   Male     1992.0\n",
              "\n",
              "[1 rows x 12 columns]"
            ]
          },
          "metadata": {
            "tags": []
          },
          "execution_count": 13
        }
      ]
    },
    {
      "cell_type": "code",
      "metadata": {
        "colab": {
          "base_uri": "https://localhost:8080/",
          "height": 134
        },
        "id": "G3DDzDy0721p",
        "outputId": "64441c4f-1582-4e5b-cc3a-1f24a2da8c36"
      },
      "source": [
        "df_q4_2018.tail(1)"
      ],
      "execution_count": null,
      "outputs": [
        {
          "output_type": "execute_result",
          "data": {
            "text/html": [
              "<div>\n",
              "<style scoped>\n",
              "    .dataframe tbody tr th:only-of-type {\n",
              "        vertical-align: middle;\n",
              "    }\n",
              "\n",
              "    .dataframe tbody tr th {\n",
              "        vertical-align: top;\n",
              "    }\n",
              "\n",
              "    .dataframe thead th {\n",
              "        text-align: right;\n",
              "    }\n",
              "</style>\n",
              "<table border=\"1\" class=\"dataframe\">\n",
              "  <thead>\n",
              "    <tr style=\"text-align: right;\">\n",
              "      <th></th>\n",
              "      <th>trip_id</th>\n",
              "      <th>start_time</th>\n",
              "      <th>end_time</th>\n",
              "      <th>bikeid</th>\n",
              "      <th>tripduration</th>\n",
              "      <th>from_station_id</th>\n",
              "      <th>from_station_name</th>\n",
              "      <th>to_station_id</th>\n",
              "      <th>to_station_name</th>\n",
              "      <th>usertype</th>\n",
              "      <th>gender</th>\n",
              "      <th>birthyear</th>\n",
              "    </tr>\n",
              "  </thead>\n",
              "  <tbody>\n",
              "    <tr>\n",
              "      <th>642685</th>\n",
              "      <td>21742442</td>\n",
              "      <td>2018-12-31 23:59:18</td>\n",
              "      <td>2019-01-01 00:20:43</td>\n",
              "      <td>2006</td>\n",
              "      <td>1,285.0</td>\n",
              "      <td>260</td>\n",
              "      <td>Kedzie Ave &amp; Milwaukee Ave</td>\n",
              "      <td>166</td>\n",
              "      <td>Ashland Ave &amp; Wrightwood Ave</td>\n",
              "      <td>Subscriber</td>\n",
              "      <td>Male</td>\n",
              "      <td>1990.0</td>\n",
              "    </tr>\n",
              "  </tbody>\n",
              "</table>\n",
              "</div>"
            ],
            "text/plain": [
              "         trip_id           start_time  ... gender  birthyear\n",
              "642685  21742442  2018-12-31 23:59:18  ...   Male     1990.0\n",
              "\n",
              "[1 rows x 12 columns]"
            ]
          },
          "metadata": {
            "tags": []
          },
          "execution_count": 14
        }
      ]
    },
    {
      "cell_type": "markdown",
      "metadata": {
        "id": "pPb0pyAX2K4c"
      },
      "source": [
        "**Joining all datasets to get the yearly data of 2018**"
      ]
    },
    {
      "cell_type": "code",
      "metadata": {
        "colab": {
          "base_uri": "https://localhost:8080/",
          "height": 391
        },
        "id": "FFEUo7qS886a",
        "outputId": "ae5ce9f1-7088-4410-e3b1-918722acec0b"
      },
      "source": [
        "df_list = [df_q1_2018, df_q2_2018, df_q3_2018, df_q4_2018]\n",
        "df = pd.concat(df_list)\n",
        "df.head()"
      ],
      "execution_count": null,
      "outputs": [
        {
          "output_type": "execute_result",
          "data": {
            "text/html": [
              "<div>\n",
              "<style scoped>\n",
              "    .dataframe tbody tr th:only-of-type {\n",
              "        vertical-align: middle;\n",
              "    }\n",
              "\n",
              "    .dataframe tbody tr th {\n",
              "        vertical-align: top;\n",
              "    }\n",
              "\n",
              "    .dataframe thead th {\n",
              "        text-align: right;\n",
              "    }\n",
              "</style>\n",
              "<table border=\"1\" class=\"dataframe\">\n",
              "  <thead>\n",
              "    <tr style=\"text-align: right;\">\n",
              "      <th></th>\n",
              "      <th>trip_id</th>\n",
              "      <th>start_time</th>\n",
              "      <th>end_time</th>\n",
              "      <th>bikeid</th>\n",
              "      <th>tripduration</th>\n",
              "      <th>from_station_id</th>\n",
              "      <th>from_station_name</th>\n",
              "      <th>to_station_id</th>\n",
              "      <th>to_station_name</th>\n",
              "      <th>usertype</th>\n",
              "      <th>gender</th>\n",
              "      <th>birthyear</th>\n",
              "    </tr>\n",
              "  </thead>\n",
              "  <tbody>\n",
              "    <tr>\n",
              "      <th>0</th>\n",
              "      <td>17536702</td>\n",
              "      <td>2018-01-01 00:12:00</td>\n",
              "      <td>2018-01-01 00:17:23</td>\n",
              "      <td>3304</td>\n",
              "      <td>323.0</td>\n",
              "      <td>69</td>\n",
              "      <td>Damen Ave &amp; Pierce Ave</td>\n",
              "      <td>159</td>\n",
              "      <td>Claremont Ave &amp; Hirsch St</td>\n",
              "      <td>Subscriber</td>\n",
              "      <td>Male</td>\n",
              "      <td>1988.0</td>\n",
              "    </tr>\n",
              "    <tr>\n",
              "      <th>1</th>\n",
              "      <td>17536703</td>\n",
              "      <td>2018-01-01 00:41:35</td>\n",
              "      <td>2018-01-01 00:47:52</td>\n",
              "      <td>5367</td>\n",
              "      <td>377.0</td>\n",
              "      <td>253</td>\n",
              "      <td>Winthrop Ave &amp; Lawrence Ave</td>\n",
              "      <td>325</td>\n",
              "      <td>Clark St &amp; Winnemac Ave (Temp)</td>\n",
              "      <td>Subscriber</td>\n",
              "      <td>Male</td>\n",
              "      <td>1984.0</td>\n",
              "    </tr>\n",
              "    <tr>\n",
              "      <th>2</th>\n",
              "      <td>17536704</td>\n",
              "      <td>2018-01-01 00:44:46</td>\n",
              "      <td>2018-01-01 01:33:10</td>\n",
              "      <td>4599</td>\n",
              "      <td>2,904.0</td>\n",
              "      <td>98</td>\n",
              "      <td>LaSalle St &amp; Washington St</td>\n",
              "      <td>509</td>\n",
              "      <td>Troy St &amp; North Ave</td>\n",
              "      <td>Subscriber</td>\n",
              "      <td>Male</td>\n",
              "      <td>1989.0</td>\n",
              "    </tr>\n",
              "    <tr>\n",
              "      <th>3</th>\n",
              "      <td>17536705</td>\n",
              "      <td>2018-01-01 00:53:10</td>\n",
              "      <td>2018-01-01 01:05:37</td>\n",
              "      <td>2302</td>\n",
              "      <td>747.0</td>\n",
              "      <td>125</td>\n",
              "      <td>Rush St &amp; Hubbard St</td>\n",
              "      <td>364</td>\n",
              "      <td>Larrabee St &amp; Oak St</td>\n",
              "      <td>Subscriber</td>\n",
              "      <td>Male</td>\n",
              "      <td>1983.0</td>\n",
              "    </tr>\n",
              "    <tr>\n",
              "      <th>4</th>\n",
              "      <td>17536706</td>\n",
              "      <td>2018-01-01 00:53:37</td>\n",
              "      <td>2018-01-01 00:56:40</td>\n",
              "      <td>3696</td>\n",
              "      <td>183.0</td>\n",
              "      <td>129</td>\n",
              "      <td>Blue Island Ave &amp; 18th St</td>\n",
              "      <td>205</td>\n",
              "      <td>Paulina St &amp; 18th St</td>\n",
              "      <td>Subscriber</td>\n",
              "      <td>Male</td>\n",
              "      <td>1989.0</td>\n",
              "    </tr>\n",
              "  </tbody>\n",
              "</table>\n",
              "</div>"
            ],
            "text/plain": [
              "    trip_id           start_time  ... gender  birthyear\n",
              "0  17536702  2018-01-01 00:12:00  ...   Male     1988.0\n",
              "1  17536703  2018-01-01 00:41:35  ...   Male     1984.0\n",
              "2  17536704  2018-01-01 00:44:46  ...   Male     1989.0\n",
              "3  17536705  2018-01-01 00:53:10  ...   Male     1983.0\n",
              "4  17536706  2018-01-01 00:53:37  ...   Male     1989.0\n",
              "\n",
              "[5 rows x 12 columns]"
            ]
          },
          "metadata": {
            "tags": []
          },
          "execution_count": 15
        }
      ]
    },
    {
      "cell_type": "markdown",
      "metadata": {
        "id": "11PsjOnl3BD2"
      },
      "source": [
        "**Getting to know the data a bit more**"
      ]
    },
    {
      "cell_type": "code",
      "metadata": {
        "colab": {
          "base_uri": "https://localhost:8080/",
          "height": 391
        },
        "id": "xmydYIus9cPF",
        "outputId": "f2a9214f-7dd4-4ce8-ac67-1f13bd356567"
      },
      "source": [
        "df.tail()"
      ],
      "execution_count": null,
      "outputs": [
        {
          "output_type": "execute_result",
          "data": {
            "text/html": [
              "<div>\n",
              "<style scoped>\n",
              "    .dataframe tbody tr th:only-of-type {\n",
              "        vertical-align: middle;\n",
              "    }\n",
              "\n",
              "    .dataframe tbody tr th {\n",
              "        vertical-align: top;\n",
              "    }\n",
              "\n",
              "    .dataframe thead th {\n",
              "        text-align: right;\n",
              "    }\n",
              "</style>\n",
              "<table border=\"1\" class=\"dataframe\">\n",
              "  <thead>\n",
              "    <tr style=\"text-align: right;\">\n",
              "      <th></th>\n",
              "      <th>trip_id</th>\n",
              "      <th>start_time</th>\n",
              "      <th>end_time</th>\n",
              "      <th>bikeid</th>\n",
              "      <th>tripduration</th>\n",
              "      <th>from_station_id</th>\n",
              "      <th>from_station_name</th>\n",
              "      <th>to_station_id</th>\n",
              "      <th>to_station_name</th>\n",
              "      <th>usertype</th>\n",
              "      <th>gender</th>\n",
              "      <th>birthyear</th>\n",
              "    </tr>\n",
              "  </thead>\n",
              "  <tbody>\n",
              "    <tr>\n",
              "      <th>642681</th>\n",
              "      <td>21742438</td>\n",
              "      <td>2018-12-31 23:45:17</td>\n",
              "      <td>2018-12-31 23:50:05</td>\n",
              "      <td>2931</td>\n",
              "      <td>288.0</td>\n",
              "      <td>49</td>\n",
              "      <td>Dearborn St &amp; Monroe St</td>\n",
              "      <td>164</td>\n",
              "      <td>Franklin St &amp; Lake St</td>\n",
              "      <td>Subscriber</td>\n",
              "      <td>Female</td>\n",
              "      <td>1983.0</td>\n",
              "    </tr>\n",
              "    <tr>\n",
              "      <th>642682</th>\n",
              "      <td>21742439</td>\n",
              "      <td>2018-12-31 23:48:48</td>\n",
              "      <td>2018-12-31 23:57:22</td>\n",
              "      <td>4386</td>\n",
              "      <td>514.0</td>\n",
              "      <td>624</td>\n",
              "      <td>Dearborn St &amp; Van Buren St (*)</td>\n",
              "      <td>44</td>\n",
              "      <td>State St &amp; Randolph St</td>\n",
              "      <td>Subscriber</td>\n",
              "      <td>Female</td>\n",
              "      <td>1990.0</td>\n",
              "    </tr>\n",
              "    <tr>\n",
              "      <th>642683</th>\n",
              "      <td>21742440</td>\n",
              "      <td>2018-12-31 23:50:09</td>\n",
              "      <td>2018-12-31 23:57:16</td>\n",
              "      <td>4927</td>\n",
              "      <td>427.0</td>\n",
              "      <td>41</td>\n",
              "      <td>Federal St &amp; Polk St</td>\n",
              "      <td>52</td>\n",
              "      <td>Michigan Ave &amp; Lake St</td>\n",
              "      <td>Subscriber</td>\n",
              "      <td>Female</td>\n",
              "      <td>1995.0</td>\n",
              "    </tr>\n",
              "    <tr>\n",
              "      <th>642684</th>\n",
              "      <td>21742441</td>\n",
              "      <td>2018-12-31 23:55:04</td>\n",
              "      <td>2018-12-31 23:58:24</td>\n",
              "      <td>1350</td>\n",
              "      <td>200.0</td>\n",
              "      <td>141</td>\n",
              "      <td>Clark St &amp; Lincoln Ave</td>\n",
              "      <td>118</td>\n",
              "      <td>Sedgwick St &amp; North Ave</td>\n",
              "      <td>Subscriber</td>\n",
              "      <td>Male</td>\n",
              "      <td>1999.0</td>\n",
              "    </tr>\n",
              "    <tr>\n",
              "      <th>642685</th>\n",
              "      <td>21742442</td>\n",
              "      <td>2018-12-31 23:59:18</td>\n",
              "      <td>2019-01-01 00:20:43</td>\n",
              "      <td>2006</td>\n",
              "      <td>1,285.0</td>\n",
              "      <td>260</td>\n",
              "      <td>Kedzie Ave &amp; Milwaukee Ave</td>\n",
              "      <td>166</td>\n",
              "      <td>Ashland Ave &amp; Wrightwood Ave</td>\n",
              "      <td>Subscriber</td>\n",
              "      <td>Male</td>\n",
              "      <td>1990.0</td>\n",
              "    </tr>\n",
              "  </tbody>\n",
              "</table>\n",
              "</div>"
            ],
            "text/plain": [
              "         trip_id           start_time  ...  gender  birthyear\n",
              "642681  21742438  2018-12-31 23:45:17  ...  Female     1983.0\n",
              "642682  21742439  2018-12-31 23:48:48  ...  Female     1990.0\n",
              "642683  21742440  2018-12-31 23:50:09  ...  Female     1995.0\n",
              "642684  21742441  2018-12-31 23:55:04  ...    Male     1999.0\n",
              "642685  21742442  2018-12-31 23:59:18  ...    Male     1990.0\n",
              "\n",
              "[5 rows x 12 columns]"
            ]
          },
          "metadata": {
            "tags": []
          },
          "execution_count": 16
        }
      ]
    },
    {
      "cell_type": "code",
      "metadata": {
        "colab": {
          "base_uri": "https://localhost:8080/"
        },
        "id": "oiMF3vJh249p",
        "outputId": "e081b6ce-43cf-416b-e6c9-4c557c1fd5f0"
      },
      "source": [
        "df.shape"
      ],
      "execution_count": null,
      "outputs": [
        {
          "output_type": "execute_result",
          "data": {
            "text/plain": [
              "(3603082, 12)"
            ]
          },
          "metadata": {
            "tags": []
          },
          "execution_count": 17
        }
      ]
    },
    {
      "cell_type": "code",
      "metadata": {
        "colab": {
          "base_uri": "https://localhost:8080/",
          "height": 295
        },
        "id": "VBDibJ0f27di",
        "outputId": "72a95050-779e-4747-be57-57096e52ebf0"
      },
      "source": [
        "df.describe()"
      ],
      "execution_count": null,
      "outputs": [
        {
          "output_type": "execute_result",
          "data": {
            "text/html": [
              "<div>\n",
              "<style scoped>\n",
              "    .dataframe tbody tr th:only-of-type {\n",
              "        vertical-align: middle;\n",
              "    }\n",
              "\n",
              "    .dataframe tbody tr th {\n",
              "        vertical-align: top;\n",
              "    }\n",
              "\n",
              "    .dataframe thead th {\n",
              "        text-align: right;\n",
              "    }\n",
              "</style>\n",
              "<table border=\"1\" class=\"dataframe\">\n",
              "  <thead>\n",
              "    <tr style=\"text-align: right;\">\n",
              "      <th></th>\n",
              "      <th>trip_id</th>\n",
              "      <th>bikeid</th>\n",
              "      <th>from_station_id</th>\n",
              "      <th>to_station_id</th>\n",
              "      <th>birthyear</th>\n",
              "    </tr>\n",
              "  </thead>\n",
              "  <tbody>\n",
              "    <tr>\n",
              "      <th>count</th>\n",
              "      <td>3.603082e+06</td>\n",
              "      <td>3.603082e+06</td>\n",
              "      <td>3.603082e+06</td>\n",
              "      <td>3.603082e+06</td>\n",
              "      <td>3.047873e+06</td>\n",
              "    </tr>\n",
              "    <tr>\n",
              "      <th>mean</th>\n",
              "      <td>1.964701e+07</td>\n",
              "      <td>3.483412e+03</td>\n",
              "      <td>1.894409e+02</td>\n",
              "      <td>1.901035e+02</td>\n",
              "      <td>1.982691e+03</td>\n",
              "    </tr>\n",
              "    <tr>\n",
              "      <th>std</th>\n",
              "      <td>1.205779e+06</td>\n",
              "      <td>1.934054e+03</td>\n",
              "      <td>1.405325e+02</td>\n",
              "      <td>1.404816e+02</td>\n",
              "      <td>1.093035e+01</td>\n",
              "    </tr>\n",
              "    <tr>\n",
              "      <th>min</th>\n",
              "      <td>1.753670e+07</td>\n",
              "      <td>1.000000e+00</td>\n",
              "      <td>2.000000e+00</td>\n",
              "      <td>2.000000e+00</td>\n",
              "      <td>1.895000e+03</td>\n",
              "    </tr>\n",
              "    <tr>\n",
              "      <th>25%</th>\n",
              "      <td>1.860784e+07</td>\n",
              "      <td>1.783000e+03</td>\n",
              "      <td>7.600000e+01</td>\n",
              "      <td>7.600000e+01</td>\n",
              "      <td>1.977000e+03</td>\n",
              "    </tr>\n",
              "    <tr>\n",
              "      <th>50%</th>\n",
              "      <td>1.965325e+07</td>\n",
              "      <td>3.599000e+03</td>\n",
              "      <td>1.650000e+02</td>\n",
              "      <td>1.660000e+02</td>\n",
              "      <td>1.986000e+03</td>\n",
              "    </tr>\n",
              "    <tr>\n",
              "      <th>75%</th>\n",
              "      <td>2.068737e+07</td>\n",
              "      <td>5.213000e+03</td>\n",
              "      <td>2.840000e+02</td>\n",
              "      <td>2.840000e+02</td>\n",
              "      <td>1.991000e+03</td>\n",
              "    </tr>\n",
              "    <tr>\n",
              "      <th>max</th>\n",
              "      <td>2.174244e+07</td>\n",
              "      <td>6.471000e+03</td>\n",
              "      <td>6.640000e+02</td>\n",
              "      <td>6.640000e+02</td>\n",
              "      <td>2.005000e+03</td>\n",
              "    </tr>\n",
              "  </tbody>\n",
              "</table>\n",
              "</div>"
            ],
            "text/plain": [
              "            trip_id        bikeid  from_station_id  to_station_id     birthyear\n",
              "count  3.603082e+06  3.603082e+06     3.603082e+06   3.603082e+06  3.047873e+06\n",
              "mean   1.964701e+07  3.483412e+03     1.894409e+02   1.901035e+02  1.982691e+03\n",
              "std    1.205779e+06  1.934054e+03     1.405325e+02   1.404816e+02  1.093035e+01\n",
              "min    1.753670e+07  1.000000e+00     2.000000e+00   2.000000e+00  1.895000e+03\n",
              "25%    1.860784e+07  1.783000e+03     7.600000e+01   7.600000e+01  1.977000e+03\n",
              "50%    1.965325e+07  3.599000e+03     1.650000e+02   1.660000e+02  1.986000e+03\n",
              "75%    2.068737e+07  5.213000e+03     2.840000e+02   2.840000e+02  1.991000e+03\n",
              "max    2.174244e+07  6.471000e+03     6.640000e+02   6.640000e+02  2.005000e+03"
            ]
          },
          "metadata": {
            "tags": []
          },
          "execution_count": 18
        }
      ]
    },
    {
      "cell_type": "code",
      "metadata": {
        "colab": {
          "base_uri": "https://localhost:8080/",
          "height": 134
        },
        "id": "zHf-yBCSEmBR",
        "outputId": "37ed21cd-3cef-4a40-d3c7-fb14f229a428"
      },
      "source": [
        "df.head(1)"
      ],
      "execution_count": null,
      "outputs": [
        {
          "output_type": "execute_result",
          "data": {
            "text/html": [
              "<div>\n",
              "<style scoped>\n",
              "    .dataframe tbody tr th:only-of-type {\n",
              "        vertical-align: middle;\n",
              "    }\n",
              "\n",
              "    .dataframe tbody tr th {\n",
              "        vertical-align: top;\n",
              "    }\n",
              "\n",
              "    .dataframe thead th {\n",
              "        text-align: right;\n",
              "    }\n",
              "</style>\n",
              "<table border=\"1\" class=\"dataframe\">\n",
              "  <thead>\n",
              "    <tr style=\"text-align: right;\">\n",
              "      <th></th>\n",
              "      <th>trip_id</th>\n",
              "      <th>start_time</th>\n",
              "      <th>end_time</th>\n",
              "      <th>bikeid</th>\n",
              "      <th>tripduration</th>\n",
              "      <th>from_station_id</th>\n",
              "      <th>from_station_name</th>\n",
              "      <th>to_station_id</th>\n",
              "      <th>to_station_name</th>\n",
              "      <th>usertype</th>\n",
              "      <th>gender</th>\n",
              "      <th>birthyear</th>\n",
              "    </tr>\n",
              "  </thead>\n",
              "  <tbody>\n",
              "    <tr>\n",
              "      <th>0</th>\n",
              "      <td>17536702</td>\n",
              "      <td>2018-01-01 00:12:00</td>\n",
              "      <td>2018-01-01 00:17:23</td>\n",
              "      <td>3304</td>\n",
              "      <td>323.0</td>\n",
              "      <td>69</td>\n",
              "      <td>Damen Ave &amp; Pierce Ave</td>\n",
              "      <td>159</td>\n",
              "      <td>Claremont Ave &amp; Hirsch St</td>\n",
              "      <td>Subscriber</td>\n",
              "      <td>Male</td>\n",
              "      <td>1988.0</td>\n",
              "    </tr>\n",
              "  </tbody>\n",
              "</table>\n",
              "</div>"
            ],
            "text/plain": [
              "    trip_id           start_time  ... gender  birthyear\n",
              "0  17536702  2018-01-01 00:12:00  ...   Male     1988.0\n",
              "\n",
              "[1 rows x 12 columns]"
            ]
          },
          "metadata": {
            "tags": []
          },
          "execution_count": 19
        }
      ]
    },
    {
      "cell_type": "code",
      "metadata": {
        "colab": {
          "base_uri": "https://localhost:8080/"
        },
        "id": "QDukXm4hEdUa",
        "outputId": "efa4e392-109a-4060-8e86-e9f2850ff504"
      },
      "source": [
        "df.dtypes"
      ],
      "execution_count": null,
      "outputs": [
        {
          "output_type": "execute_result",
          "data": {
            "text/plain": [
              "trip_id                int64\n",
              "start_time            object\n",
              "end_time              object\n",
              "bikeid                 int64\n",
              "tripduration          object\n",
              "from_station_id        int64\n",
              "from_station_name     object\n",
              "to_station_id          int64\n",
              "to_station_name       object\n",
              "usertype              object\n",
              "gender                object\n",
              "birthyear            float64\n",
              "dtype: object"
            ]
          },
          "metadata": {
            "tags": []
          },
          "execution_count": 20
        }
      ]
    },
    {
      "cell_type": "markdown",
      "metadata": {
        "id": "hcP_XIL-3Qrc"
      },
      "source": [
        "# Feature Engineering and Data Cleaning"
      ]
    },
    {
      "cell_type": "markdown",
      "metadata": {
        "id": "zJ_VU8n53X-E"
      },
      "source": [
        "First, I created a new feature called 'ride_length' by calculating the difference between 'end_time' and 'start_time'"
      ]
    },
    {
      "cell_type": "code",
      "metadata": {
        "colab": {
          "base_uri": "https://localhost:8080/",
          "height": 134
        },
        "id": "X4idBmKyLs3s",
        "outputId": "41a7753e-2312-4b11-fe6a-1db909027225"
      },
      "source": [
        "end = pd.to_datetime(df['end_time'])\n",
        "start = pd.to_datetime(df['start_time'])\n",
        "df['ride_lenght'] = end - start\n",
        "df.head(1)\n"
      ],
      "execution_count": null,
      "outputs": [
        {
          "output_type": "execute_result",
          "data": {
            "text/html": [
              "<div>\n",
              "<style scoped>\n",
              "    .dataframe tbody tr th:only-of-type {\n",
              "        vertical-align: middle;\n",
              "    }\n",
              "\n",
              "    .dataframe tbody tr th {\n",
              "        vertical-align: top;\n",
              "    }\n",
              "\n",
              "    .dataframe thead th {\n",
              "        text-align: right;\n",
              "    }\n",
              "</style>\n",
              "<table border=\"1\" class=\"dataframe\">\n",
              "  <thead>\n",
              "    <tr style=\"text-align: right;\">\n",
              "      <th></th>\n",
              "      <th>trip_id</th>\n",
              "      <th>start_time</th>\n",
              "      <th>end_time</th>\n",
              "      <th>bikeid</th>\n",
              "      <th>tripduration</th>\n",
              "      <th>from_station_id</th>\n",
              "      <th>from_station_name</th>\n",
              "      <th>to_station_id</th>\n",
              "      <th>to_station_name</th>\n",
              "      <th>usertype</th>\n",
              "      <th>gender</th>\n",
              "      <th>birthyear</th>\n",
              "      <th>ride_lenght</th>\n",
              "    </tr>\n",
              "  </thead>\n",
              "  <tbody>\n",
              "    <tr>\n",
              "      <th>0</th>\n",
              "      <td>17536702</td>\n",
              "      <td>2018-01-01 00:12:00</td>\n",
              "      <td>2018-01-01 00:17:23</td>\n",
              "      <td>3304</td>\n",
              "      <td>323.0</td>\n",
              "      <td>69</td>\n",
              "      <td>Damen Ave &amp; Pierce Ave</td>\n",
              "      <td>159</td>\n",
              "      <td>Claremont Ave &amp; Hirsch St</td>\n",
              "      <td>Subscriber</td>\n",
              "      <td>Male</td>\n",
              "      <td>1988.0</td>\n",
              "      <td>0 days 00:05:23</td>\n",
              "    </tr>\n",
              "  </tbody>\n",
              "</table>\n",
              "</div>"
            ],
            "text/plain": [
              "    trip_id           start_time  ... birthyear     ride_lenght\n",
              "0  17536702  2018-01-01 00:12:00  ...    1988.0 0 days 00:05:23\n",
              "\n",
              "[1 rows x 13 columns]"
            ]
          },
          "metadata": {
            "tags": []
          },
          "execution_count": 21
        }
      ]
    },
    {
      "cell_type": "markdown",
      "metadata": {
        "id": "B9tuDv3r375w"
      },
      "source": [
        "Then I converted the ride length to minutes"
      ]
    },
    {
      "cell_type": "code",
      "metadata": {
        "colab": {
          "base_uri": "https://localhost:8080/",
          "height": 713
        },
        "id": "3sYU16TjMcbj",
        "outputId": "a2b36298-fdbd-4365-c554-d1b04e354c76"
      },
      "source": [
        "df['ride_lenght_min'] = df['ride_lenght'].dt.total_seconds()/60\n",
        "df.head(10)\n"
      ],
      "execution_count": null,
      "outputs": [
        {
          "output_type": "execute_result",
          "data": {
            "text/html": [
              "<div>\n",
              "<style scoped>\n",
              "    .dataframe tbody tr th:only-of-type {\n",
              "        vertical-align: middle;\n",
              "    }\n",
              "\n",
              "    .dataframe tbody tr th {\n",
              "        vertical-align: top;\n",
              "    }\n",
              "\n",
              "    .dataframe thead th {\n",
              "        text-align: right;\n",
              "    }\n",
              "</style>\n",
              "<table border=\"1\" class=\"dataframe\">\n",
              "  <thead>\n",
              "    <tr style=\"text-align: right;\">\n",
              "      <th></th>\n",
              "      <th>trip_id</th>\n",
              "      <th>start_time</th>\n",
              "      <th>end_time</th>\n",
              "      <th>bikeid</th>\n",
              "      <th>tripduration</th>\n",
              "      <th>from_station_id</th>\n",
              "      <th>from_station_name</th>\n",
              "      <th>to_station_id</th>\n",
              "      <th>to_station_name</th>\n",
              "      <th>usertype</th>\n",
              "      <th>gender</th>\n",
              "      <th>birthyear</th>\n",
              "      <th>ride_lenght</th>\n",
              "      <th>ride_lenght_min</th>\n",
              "    </tr>\n",
              "  </thead>\n",
              "  <tbody>\n",
              "    <tr>\n",
              "      <th>0</th>\n",
              "      <td>17536702</td>\n",
              "      <td>2018-01-01 00:12:00</td>\n",
              "      <td>2018-01-01 00:17:23</td>\n",
              "      <td>3304</td>\n",
              "      <td>323.0</td>\n",
              "      <td>69</td>\n",
              "      <td>Damen Ave &amp; Pierce Ave</td>\n",
              "      <td>159</td>\n",
              "      <td>Claremont Ave &amp; Hirsch St</td>\n",
              "      <td>Subscriber</td>\n",
              "      <td>Male</td>\n",
              "      <td>1988.0</td>\n",
              "      <td>0 days 00:05:23</td>\n",
              "      <td>5.383333</td>\n",
              "    </tr>\n",
              "    <tr>\n",
              "      <th>1</th>\n",
              "      <td>17536703</td>\n",
              "      <td>2018-01-01 00:41:35</td>\n",
              "      <td>2018-01-01 00:47:52</td>\n",
              "      <td>5367</td>\n",
              "      <td>377.0</td>\n",
              "      <td>253</td>\n",
              "      <td>Winthrop Ave &amp; Lawrence Ave</td>\n",
              "      <td>325</td>\n",
              "      <td>Clark St &amp; Winnemac Ave (Temp)</td>\n",
              "      <td>Subscriber</td>\n",
              "      <td>Male</td>\n",
              "      <td>1984.0</td>\n",
              "      <td>0 days 00:06:17</td>\n",
              "      <td>6.283333</td>\n",
              "    </tr>\n",
              "    <tr>\n",
              "      <th>2</th>\n",
              "      <td>17536704</td>\n",
              "      <td>2018-01-01 00:44:46</td>\n",
              "      <td>2018-01-01 01:33:10</td>\n",
              "      <td>4599</td>\n",
              "      <td>2,904.0</td>\n",
              "      <td>98</td>\n",
              "      <td>LaSalle St &amp; Washington St</td>\n",
              "      <td>509</td>\n",
              "      <td>Troy St &amp; North Ave</td>\n",
              "      <td>Subscriber</td>\n",
              "      <td>Male</td>\n",
              "      <td>1989.0</td>\n",
              "      <td>0 days 00:48:24</td>\n",
              "      <td>48.400000</td>\n",
              "    </tr>\n",
              "    <tr>\n",
              "      <th>3</th>\n",
              "      <td>17536705</td>\n",
              "      <td>2018-01-01 00:53:10</td>\n",
              "      <td>2018-01-01 01:05:37</td>\n",
              "      <td>2302</td>\n",
              "      <td>747.0</td>\n",
              "      <td>125</td>\n",
              "      <td>Rush St &amp; Hubbard St</td>\n",
              "      <td>364</td>\n",
              "      <td>Larrabee St &amp; Oak St</td>\n",
              "      <td>Subscriber</td>\n",
              "      <td>Male</td>\n",
              "      <td>1983.0</td>\n",
              "      <td>0 days 00:12:27</td>\n",
              "      <td>12.450000</td>\n",
              "    </tr>\n",
              "    <tr>\n",
              "      <th>4</th>\n",
              "      <td>17536706</td>\n",
              "      <td>2018-01-01 00:53:37</td>\n",
              "      <td>2018-01-01 00:56:40</td>\n",
              "      <td>3696</td>\n",
              "      <td>183.0</td>\n",
              "      <td>129</td>\n",
              "      <td>Blue Island Ave &amp; 18th St</td>\n",
              "      <td>205</td>\n",
              "      <td>Paulina St &amp; 18th St</td>\n",
              "      <td>Subscriber</td>\n",
              "      <td>Male</td>\n",
              "      <td>1989.0</td>\n",
              "      <td>0 days 00:03:03</td>\n",
              "      <td>3.050000</td>\n",
              "    </tr>\n",
              "    <tr>\n",
              "      <th>5</th>\n",
              "      <td>17536707</td>\n",
              "      <td>2018-01-01 00:56:15</td>\n",
              "      <td>2018-01-01 01:00:41</td>\n",
              "      <td>6298</td>\n",
              "      <td>266.0</td>\n",
              "      <td>304</td>\n",
              "      <td>Broadway &amp; Waveland Ave</td>\n",
              "      <td>299</td>\n",
              "      <td>Halsted St &amp; Roscoe St</td>\n",
              "      <td>Subscriber</td>\n",
              "      <td>Female</td>\n",
              "      <td>1994.0</td>\n",
              "      <td>0 days 00:04:26</td>\n",
              "      <td>4.433333</td>\n",
              "    </tr>\n",
              "    <tr>\n",
              "      <th>6</th>\n",
              "      <td>17536708</td>\n",
              "      <td>2018-01-01 00:57:26</td>\n",
              "      <td>2018-01-01 01:02:40</td>\n",
              "      <td>1169</td>\n",
              "      <td>314.0</td>\n",
              "      <td>164</td>\n",
              "      <td>Franklin St &amp; Lake St</td>\n",
              "      <td>174</td>\n",
              "      <td>Canal St &amp; Madison St</td>\n",
              "      <td>Subscriber</td>\n",
              "      <td>Male</td>\n",
              "      <td>1998.0</td>\n",
              "      <td>0 days 00:05:14</td>\n",
              "      <td>5.233333</td>\n",
              "    </tr>\n",
              "    <tr>\n",
              "      <th>7</th>\n",
              "      <td>17536709</td>\n",
              "      <td>2018-01-01 01:00:29</td>\n",
              "      <td>2018-01-01 01:13:43</td>\n",
              "      <td>6351</td>\n",
              "      <td>794.0</td>\n",
              "      <td>182</td>\n",
              "      <td>Wells St &amp; Elm St</td>\n",
              "      <td>142</td>\n",
              "      <td>McClurg Ct &amp; Erie St</td>\n",
              "      <td>Subscriber</td>\n",
              "      <td>Male</td>\n",
              "      <td>1990.0</td>\n",
              "      <td>0 days 00:13:14</td>\n",
              "      <td>13.233333</td>\n",
              "    </tr>\n",
              "    <tr>\n",
              "      <th>8</th>\n",
              "      <td>17536710</td>\n",
              "      <td>2018-01-01 01:07:12</td>\n",
              "      <td>2018-01-01 01:31:53</td>\n",
              "      <td>1920</td>\n",
              "      <td>1,481.0</td>\n",
              "      <td>99</td>\n",
              "      <td>Lake Shore Dr &amp; Ohio St</td>\n",
              "      <td>99</td>\n",
              "      <td>Lake Shore Dr &amp; Ohio St</td>\n",
              "      <td>Customer</td>\n",
              "      <td>NaN</td>\n",
              "      <td>NaN</td>\n",
              "      <td>0 days 00:24:41</td>\n",
              "      <td>24.683333</td>\n",
              "    </tr>\n",
              "    <tr>\n",
              "      <th>9</th>\n",
              "      <td>17536711</td>\n",
              "      <td>2018-01-01 01:07:54</td>\n",
              "      <td>2018-01-06 10:04:02</td>\n",
              "      <td>4783</td>\n",
              "      <td>464,168.0</td>\n",
              "      <td>99</td>\n",
              "      <td>Lake Shore Dr &amp; Ohio St</td>\n",
              "      <td>99</td>\n",
              "      <td>Lake Shore Dr &amp; Ohio St</td>\n",
              "      <td>Customer</td>\n",
              "      <td>NaN</td>\n",
              "      <td>NaN</td>\n",
              "      <td>5 days 08:56:08</td>\n",
              "      <td>7736.133333</td>\n",
              "    </tr>\n",
              "  </tbody>\n",
              "</table>\n",
              "</div>"
            ],
            "text/plain": [
              "    trip_id           start_time  ...     ride_lenght  ride_lenght_min\n",
              "0  17536702  2018-01-01 00:12:00  ... 0 days 00:05:23         5.383333\n",
              "1  17536703  2018-01-01 00:41:35  ... 0 days 00:06:17         6.283333\n",
              "2  17536704  2018-01-01 00:44:46  ... 0 days 00:48:24        48.400000\n",
              "3  17536705  2018-01-01 00:53:10  ... 0 days 00:12:27        12.450000\n",
              "4  17536706  2018-01-01 00:53:37  ... 0 days 00:03:03         3.050000\n",
              "5  17536707  2018-01-01 00:56:15  ... 0 days 00:04:26         4.433333\n",
              "6  17536708  2018-01-01 00:57:26  ... 0 days 00:05:14         5.233333\n",
              "7  17536709  2018-01-01 01:00:29  ... 0 days 00:13:14        13.233333\n",
              "8  17536710  2018-01-01 01:07:12  ... 0 days 00:24:41        24.683333\n",
              "9  17536711  2018-01-01 01:07:54  ... 5 days 08:56:08      7736.133333\n",
              "\n",
              "[10 rows x 14 columns]"
            ]
          },
          "metadata": {
            "tags": []
          },
          "execution_count": 22
        }
      ]
    },
    {
      "cell_type": "markdown",
      "metadata": {
        "id": "bDwqVLAE36UV"
      },
      "source": [
        "Then I removed the fractions of minutes since fraction of a minute is not easy to read and doesn't make a significant difference."
      ]
    },
    {
      "cell_type": "code",
      "metadata": {
        "id": "lzebcbKCPIfU"
      },
      "source": [
        "df['ride_lenght_min'] = df['ride_lenght_min'].astype('int64')"
      ],
      "execution_count": null,
      "outputs": []
    },
    {
      "cell_type": "code",
      "metadata": {
        "colab": {
          "base_uri": "https://localhost:8080/",
          "height": 391
        },
        "id": "FFXD7QBzQixY",
        "outputId": "4d06dda0-8408-497d-bbe4-e38761e15ad8"
      },
      "source": [
        "df.head()"
      ],
      "execution_count": null,
      "outputs": [
        {
          "output_type": "execute_result",
          "data": {
            "text/html": [
              "<div>\n",
              "<style scoped>\n",
              "    .dataframe tbody tr th:only-of-type {\n",
              "        vertical-align: middle;\n",
              "    }\n",
              "\n",
              "    .dataframe tbody tr th {\n",
              "        vertical-align: top;\n",
              "    }\n",
              "\n",
              "    .dataframe thead th {\n",
              "        text-align: right;\n",
              "    }\n",
              "</style>\n",
              "<table border=\"1\" class=\"dataframe\">\n",
              "  <thead>\n",
              "    <tr style=\"text-align: right;\">\n",
              "      <th></th>\n",
              "      <th>trip_id</th>\n",
              "      <th>start_time</th>\n",
              "      <th>end_time</th>\n",
              "      <th>bikeid</th>\n",
              "      <th>tripduration</th>\n",
              "      <th>from_station_id</th>\n",
              "      <th>from_station_name</th>\n",
              "      <th>to_station_id</th>\n",
              "      <th>to_station_name</th>\n",
              "      <th>usertype</th>\n",
              "      <th>gender</th>\n",
              "      <th>birthyear</th>\n",
              "      <th>ride_lenght</th>\n",
              "      <th>ride_lenght_min</th>\n",
              "    </tr>\n",
              "  </thead>\n",
              "  <tbody>\n",
              "    <tr>\n",
              "      <th>0</th>\n",
              "      <td>17536702</td>\n",
              "      <td>2018-01-01 00:12:00</td>\n",
              "      <td>2018-01-01 00:17:23</td>\n",
              "      <td>3304</td>\n",
              "      <td>323.0</td>\n",
              "      <td>69</td>\n",
              "      <td>Damen Ave &amp; Pierce Ave</td>\n",
              "      <td>159</td>\n",
              "      <td>Claremont Ave &amp; Hirsch St</td>\n",
              "      <td>Subscriber</td>\n",
              "      <td>Male</td>\n",
              "      <td>1988.0</td>\n",
              "      <td>0 days 00:05:23</td>\n",
              "      <td>5</td>\n",
              "    </tr>\n",
              "    <tr>\n",
              "      <th>1</th>\n",
              "      <td>17536703</td>\n",
              "      <td>2018-01-01 00:41:35</td>\n",
              "      <td>2018-01-01 00:47:52</td>\n",
              "      <td>5367</td>\n",
              "      <td>377.0</td>\n",
              "      <td>253</td>\n",
              "      <td>Winthrop Ave &amp; Lawrence Ave</td>\n",
              "      <td>325</td>\n",
              "      <td>Clark St &amp; Winnemac Ave (Temp)</td>\n",
              "      <td>Subscriber</td>\n",
              "      <td>Male</td>\n",
              "      <td>1984.0</td>\n",
              "      <td>0 days 00:06:17</td>\n",
              "      <td>6</td>\n",
              "    </tr>\n",
              "    <tr>\n",
              "      <th>2</th>\n",
              "      <td>17536704</td>\n",
              "      <td>2018-01-01 00:44:46</td>\n",
              "      <td>2018-01-01 01:33:10</td>\n",
              "      <td>4599</td>\n",
              "      <td>2,904.0</td>\n",
              "      <td>98</td>\n",
              "      <td>LaSalle St &amp; Washington St</td>\n",
              "      <td>509</td>\n",
              "      <td>Troy St &amp; North Ave</td>\n",
              "      <td>Subscriber</td>\n",
              "      <td>Male</td>\n",
              "      <td>1989.0</td>\n",
              "      <td>0 days 00:48:24</td>\n",
              "      <td>48</td>\n",
              "    </tr>\n",
              "    <tr>\n",
              "      <th>3</th>\n",
              "      <td>17536705</td>\n",
              "      <td>2018-01-01 00:53:10</td>\n",
              "      <td>2018-01-01 01:05:37</td>\n",
              "      <td>2302</td>\n",
              "      <td>747.0</td>\n",
              "      <td>125</td>\n",
              "      <td>Rush St &amp; Hubbard St</td>\n",
              "      <td>364</td>\n",
              "      <td>Larrabee St &amp; Oak St</td>\n",
              "      <td>Subscriber</td>\n",
              "      <td>Male</td>\n",
              "      <td>1983.0</td>\n",
              "      <td>0 days 00:12:27</td>\n",
              "      <td>12</td>\n",
              "    </tr>\n",
              "    <tr>\n",
              "      <th>4</th>\n",
              "      <td>17536706</td>\n",
              "      <td>2018-01-01 00:53:37</td>\n",
              "      <td>2018-01-01 00:56:40</td>\n",
              "      <td>3696</td>\n",
              "      <td>183.0</td>\n",
              "      <td>129</td>\n",
              "      <td>Blue Island Ave &amp; 18th St</td>\n",
              "      <td>205</td>\n",
              "      <td>Paulina St &amp; 18th St</td>\n",
              "      <td>Subscriber</td>\n",
              "      <td>Male</td>\n",
              "      <td>1989.0</td>\n",
              "      <td>0 days 00:03:03</td>\n",
              "      <td>3</td>\n",
              "    </tr>\n",
              "  </tbody>\n",
              "</table>\n",
              "</div>"
            ],
            "text/plain": [
              "    trip_id           start_time  ...     ride_lenght  ride_lenght_min\n",
              "0  17536702  2018-01-01 00:12:00  ... 0 days 00:05:23                5\n",
              "1  17536703  2018-01-01 00:41:35  ... 0 days 00:06:17                6\n",
              "2  17536704  2018-01-01 00:44:46  ... 0 days 00:48:24               48\n",
              "3  17536705  2018-01-01 00:53:10  ... 0 days 00:12:27               12\n",
              "4  17536706  2018-01-01 00:53:37  ... 0 days 00:03:03                3\n",
              "\n",
              "[5 rows x 14 columns]"
            ]
          },
          "metadata": {
            "tags": []
          },
          "execution_count": 24
        }
      ]
    },
    {
      "cell_type": "code",
      "metadata": {
        "colab": {
          "base_uri": "https://localhost:8080/"
        },
        "id": "nekKPJ2qRNLH",
        "outputId": "927526b9-c87e-494b-cf97-cd512fa5c4bb"
      },
      "source": [
        "df['ride_lenght_min'].dtype"
      ],
      "execution_count": null,
      "outputs": [
        {
          "output_type": "execute_result",
          "data": {
            "text/plain": [
              "dtype('int64')"
            ]
          },
          "metadata": {
            "tags": []
          },
          "execution_count": 25
        }
      ]
    },
    {
      "cell_type": "markdown",
      "metadata": {
        "id": "ofDMEbaD5FOY"
      },
      "source": [
        "Upon more exploration I found out that there are some wrong data which is showing trip duration to be negative. "
      ]
    },
    {
      "cell_type": "code",
      "metadata": {
        "colab": {
          "base_uri": "https://localhost:8080/",
          "height": 773
        },
        "id": "69G8ZprSTa1t",
        "outputId": "69cac65c-26fa-4c3f-d232-a8367590741a"
      },
      "source": [
        "df.sort_values(by=['ride_lenght_min'])"
      ],
      "execution_count": null,
      "outputs": [
        {
          "output_type": "execute_result",
          "data": {
            "text/html": [
              "<div>\n",
              "<style scoped>\n",
              "    .dataframe tbody tr th:only-of-type {\n",
              "        vertical-align: middle;\n",
              "    }\n",
              "\n",
              "    .dataframe tbody tr th {\n",
              "        vertical-align: top;\n",
              "    }\n",
              "\n",
              "    .dataframe thead th {\n",
              "        text-align: right;\n",
              "    }\n",
              "</style>\n",
              "<table border=\"1\" class=\"dataframe\">\n",
              "  <thead>\n",
              "    <tr style=\"text-align: right;\">\n",
              "      <th></th>\n",
              "      <th>trip_id</th>\n",
              "      <th>start_time</th>\n",
              "      <th>end_time</th>\n",
              "      <th>bikeid</th>\n",
              "      <th>tripduration</th>\n",
              "      <th>from_station_id</th>\n",
              "      <th>from_station_name</th>\n",
              "      <th>to_station_id</th>\n",
              "      <th>to_station_name</th>\n",
              "      <th>usertype</th>\n",
              "      <th>gender</th>\n",
              "      <th>birthyear</th>\n",
              "      <th>ride_lenght</th>\n",
              "      <th>ride_lenght_min</th>\n",
              "    </tr>\n",
              "  </thead>\n",
              "  <tbody>\n",
              "    <tr>\n",
              "      <th>373627</th>\n",
              "      <td>21419846</td>\n",
              "      <td>2018-11-04 01:50:42</td>\n",
              "      <td>2018-11-04 01:01:53</td>\n",
              "      <td>3109</td>\n",
              "      <td>671.0</td>\n",
              "      <td>453</td>\n",
              "      <td>Clark St &amp; Schreiber Ave</td>\n",
              "      <td>325</td>\n",
              "      <td>Clark St &amp; Winnemac Ave (Temp)</td>\n",
              "      <td>Subscriber</td>\n",
              "      <td>Male</td>\n",
              "      <td>1974.0</td>\n",
              "      <td>-1 days +23:11:11</td>\n",
              "      <td>-48</td>\n",
              "    </tr>\n",
              "    <tr>\n",
              "      <th>373626</th>\n",
              "      <td>21419845</td>\n",
              "      <td>2018-11-04 01:48:12</td>\n",
              "      <td>2018-11-04 01:02:46</td>\n",
              "      <td>2334</td>\n",
              "      <td>874.0</td>\n",
              "      <td>463</td>\n",
              "      <td>Clark St &amp; Berwyn Ave</td>\n",
              "      <td>229</td>\n",
              "      <td>Southport Ave &amp; Roscoe St</td>\n",
              "      <td>Customer</td>\n",
              "      <td>NaN</td>\n",
              "      <td>NaN</td>\n",
              "      <td>-1 days +23:14:34</td>\n",
              "      <td>-45</td>\n",
              "    </tr>\n",
              "    <tr>\n",
              "      <th>373629</th>\n",
              "      <td>21419848</td>\n",
              "      <td>2018-11-04 01:53:16</td>\n",
              "      <td>2018-11-04 01:11:13</td>\n",
              "      <td>6462</td>\n",
              "      <td>1,077.0</td>\n",
              "      <td>118</td>\n",
              "      <td>Sedgwick St &amp; North Ave</td>\n",
              "      <td>152</td>\n",
              "      <td>Lincoln Ave &amp; Diversey Pkwy</td>\n",
              "      <td>Subscriber</td>\n",
              "      <td>Male</td>\n",
              "      <td>1997.0</td>\n",
              "      <td>-1 days +23:17:57</td>\n",
              "      <td>-42</td>\n",
              "    </tr>\n",
              "    <tr>\n",
              "      <th>373630</th>\n",
              "      <td>21419849</td>\n",
              "      <td>2018-11-04 01:55:29</td>\n",
              "      <td>2018-11-04 01:14:56</td>\n",
              "      <td>1097</td>\n",
              "      <td>1,167.0</td>\n",
              "      <td>73</td>\n",
              "      <td>Jefferson St &amp; Monroe St</td>\n",
              "      <td>172</td>\n",
              "      <td>Rush St &amp; Cedar St</td>\n",
              "      <td>Subscriber</td>\n",
              "      <td>Male</td>\n",
              "      <td>1990.0</td>\n",
              "      <td>-1 days +23:19:27</td>\n",
              "      <td>-40</td>\n",
              "    </tr>\n",
              "    <tr>\n",
              "      <th>373625</th>\n",
              "      <td>21419844</td>\n",
              "      <td>2018-11-04 01:46:45</td>\n",
              "      <td>2018-11-04 01:06:53</td>\n",
              "      <td>5303</td>\n",
              "      <td>1,208.0</td>\n",
              "      <td>54</td>\n",
              "      <td>Ogden Ave &amp; Chicago Ave</td>\n",
              "      <td>259</td>\n",
              "      <td>California Ave &amp; Francis Pl</td>\n",
              "      <td>Subscriber</td>\n",
              "      <td>Male</td>\n",
              "      <td>1990.0</td>\n",
              "      <td>-1 days +23:20:08</td>\n",
              "      <td>-39</td>\n",
              "    </tr>\n",
              "    <tr>\n",
              "      <th>...</th>\n",
              "      <td>...</td>\n",
              "      <td>...</td>\n",
              "      <td>...</td>\n",
              "      <td>...</td>\n",
              "      <td>...</td>\n",
              "      <td>...</td>\n",
              "      <td>...</td>\n",
              "      <td>...</td>\n",
              "      <td>...</td>\n",
              "      <td>...</td>\n",
              "      <td>...</td>\n",
              "      <td>...</td>\n",
              "      <td>...</td>\n",
              "      <td>...</td>\n",
              "    </tr>\n",
              "    <tr>\n",
              "      <th>381288</th>\n",
              "      <td>17993581</td>\n",
              "      <td>2018-03-30 16:57:12</td>\n",
              "      <td>2018-08-26 21:19:34</td>\n",
              "      <td>426</td>\n",
              "      <td>12,889,300.0</td>\n",
              "      <td>35</td>\n",
              "      <td>Streeter Dr &amp; Grand Ave</td>\n",
              "      <td>360</td>\n",
              "      <td>DIVVY Map Frame B/C Station</td>\n",
              "      <td>Customer</td>\n",
              "      <td>NaN</td>\n",
              "      <td>NaN</td>\n",
              "      <td>149 days 04:22:22</td>\n",
              "      <td>214822</td>\n",
              "    </tr>\n",
              "    <tr>\n",
              "      <th>77866</th>\n",
              "      <td>18095986</td>\n",
              "      <td>2018-04-15 20:47:22</td>\n",
              "      <td>2018-09-18 13:47:42</td>\n",
              "      <td>5779</td>\n",
              "      <td>13,453,200.0</td>\n",
              "      <td>119</td>\n",
              "      <td>Ashland Ave &amp; Lake St (Temp)</td>\n",
              "      <td>360</td>\n",
              "      <td>DIVVY Map Frame B/C Station</td>\n",
              "      <td>Customer</td>\n",
              "      <td>NaN</td>\n",
              "      <td>NaN</td>\n",
              "      <td>155 days 17:00:20</td>\n",
              "      <td>224220</td>\n",
              "    </tr>\n",
              "    <tr>\n",
              "      <th>79287</th>\n",
              "      <td>17634739</td>\n",
              "      <td>2018-01-25 19:56:04</td>\n",
              "      <td>2018-07-01 18:56:21</td>\n",
              "      <td>5956</td>\n",
              "      <td>13,557,600.0</td>\n",
              "      <td>585</td>\n",
              "      <td>Cottage Grove Ave &amp; 83rd St</td>\n",
              "      <td>392</td>\n",
              "      <td>Perry Ave &amp; 69th St</td>\n",
              "      <td>Subscriber</td>\n",
              "      <td>Male</td>\n",
              "      <td>1997.0</td>\n",
              "      <td>156 days 23:00:17</td>\n",
              "      <td>226020</td>\n",
              "    </tr>\n",
              "    <tr>\n",
              "      <th>30811</th>\n",
              "      <td>17576039</td>\n",
              "      <td>2018-01-12 02:20:15</td>\n",
              "      <td>2018-06-26 13:55:00</td>\n",
              "      <td>496</td>\n",
              "      <td>14,294,100.0</td>\n",
              "      <td>182</td>\n",
              "      <td>Wells St &amp; Elm St</td>\n",
              "      <td>360</td>\n",
              "      <td>DIVVY Map Frame B/C Station</td>\n",
              "      <td>Customer</td>\n",
              "      <td>NaN</td>\n",
              "      <td>NaN</td>\n",
              "      <td>165 days 11:34:45</td>\n",
              "      <td>238294</td>\n",
              "    </tr>\n",
              "    <tr>\n",
              "      <th>118688</th>\n",
              "      <td>17681646</td>\n",
              "      <td>2018-02-03 15:02:50</td>\n",
              "      <td>2018-07-19 14:23:31</td>\n",
              "      <td>471</td>\n",
              "      <td>14,336,400.0</td>\n",
              "      <td>195</td>\n",
              "      <td>Columbus Dr &amp; Randolph St</td>\n",
              "      <td>433</td>\n",
              "      <td>Kedzie Ave &amp; Harrison St</td>\n",
              "      <td>Customer</td>\n",
              "      <td>NaN</td>\n",
              "      <td>NaN</td>\n",
              "      <td>165 days 23:20:41</td>\n",
              "      <td>239000</td>\n",
              "    </tr>\n",
              "  </tbody>\n",
              "</table>\n",
              "<p>3603082 rows × 14 columns</p>\n",
              "</div>"
            ],
            "text/plain": [
              "         trip_id           start_time  ...       ride_lenght  ride_lenght_min\n",
              "373627  21419846  2018-11-04 01:50:42  ... -1 days +23:11:11              -48\n",
              "373626  21419845  2018-11-04 01:48:12  ... -1 days +23:14:34              -45\n",
              "373629  21419848  2018-11-04 01:53:16  ... -1 days +23:17:57              -42\n",
              "373630  21419849  2018-11-04 01:55:29  ... -1 days +23:19:27              -40\n",
              "373625  21419844  2018-11-04 01:46:45  ... -1 days +23:20:08              -39\n",
              "...          ...                  ...  ...               ...              ...\n",
              "381288  17993581  2018-03-30 16:57:12  ... 149 days 04:22:22           214822\n",
              "77866   18095986  2018-04-15 20:47:22  ... 155 days 17:00:20           224220\n",
              "79287   17634739  2018-01-25 19:56:04  ... 156 days 23:00:17           226020\n",
              "30811   17576039  2018-01-12 02:20:15  ... 165 days 11:34:45           238294\n",
              "118688  17681646  2018-02-03 15:02:50  ... 165 days 23:20:41           239000\n",
              "\n",
              "[3603082 rows x 14 columns]"
            ]
          },
          "metadata": {
            "tags": []
          },
          "execution_count": 26
        }
      ]
    },
    {
      "cell_type": "markdown",
      "metadata": {
        "id": "qZp8HjTK5gAb"
      },
      "source": [
        "So I double checked my feature engineering and found that there was nothing wrong with my new feature, the data in the datasets was wrong. so I decided to remove data with negative trip duration all together."
      ]
    },
    {
      "cell_type": "code",
      "metadata": {
        "id": "RCg49AoBSOjh"
      },
      "source": [
        "df = df[(df['ride_lenght_min'] > 0)]"
      ],
      "execution_count": null,
      "outputs": []
    },
    {
      "cell_type": "markdown",
      "metadata": {
        "id": "Dd0QOPxs6CO_"
      },
      "source": [
        "Next I created a new column which generates time of the week from 'start_time'"
      ]
    },
    {
      "cell_type": "code",
      "metadata": {
        "colab": {
          "base_uri": "https://localhost:8080/"
        },
        "id": "kGmH79sOYiay",
        "outputId": "b15e921c-2326-4612-f75e-b87ea37e800e"
      },
      "source": [
        "df['start_time'].dtype"
      ],
      "execution_count": null,
      "outputs": [
        {
          "output_type": "execute_result",
          "data": {
            "text/plain": [
              "dtype('O')"
            ]
          },
          "metadata": {
            "tags": []
          },
          "execution_count": 28
        }
      ]
    },
    {
      "cell_type": "code",
      "metadata": {
        "colab": {
          "base_uri": "https://localhost:8080/",
          "height": 198
        },
        "id": "k6-TXDrtYULY",
        "outputId": "65dcf391-4923-4797-ecda-466c46cc8716"
      },
      "source": [
        "df['start_time'] = pd.to_datetime(df['start_time'])\n",
        "df['day_of_week'] = df['start_time'].dt.day_name().str[:3]\n",
        "df.head(2)"
      ],
      "execution_count": null,
      "outputs": [
        {
          "output_type": "execute_result",
          "data": {
            "text/html": [
              "<div>\n",
              "<style scoped>\n",
              "    .dataframe tbody tr th:only-of-type {\n",
              "        vertical-align: middle;\n",
              "    }\n",
              "\n",
              "    .dataframe tbody tr th {\n",
              "        vertical-align: top;\n",
              "    }\n",
              "\n",
              "    .dataframe thead th {\n",
              "        text-align: right;\n",
              "    }\n",
              "</style>\n",
              "<table border=\"1\" class=\"dataframe\">\n",
              "  <thead>\n",
              "    <tr style=\"text-align: right;\">\n",
              "      <th></th>\n",
              "      <th>trip_id</th>\n",
              "      <th>start_time</th>\n",
              "      <th>end_time</th>\n",
              "      <th>bikeid</th>\n",
              "      <th>tripduration</th>\n",
              "      <th>from_station_id</th>\n",
              "      <th>from_station_name</th>\n",
              "      <th>to_station_id</th>\n",
              "      <th>to_station_name</th>\n",
              "      <th>usertype</th>\n",
              "      <th>gender</th>\n",
              "      <th>birthyear</th>\n",
              "      <th>ride_lenght</th>\n",
              "      <th>ride_lenght_min</th>\n",
              "      <th>day_of_week</th>\n",
              "    </tr>\n",
              "  </thead>\n",
              "  <tbody>\n",
              "    <tr>\n",
              "      <th>0</th>\n",
              "      <td>17536702</td>\n",
              "      <td>2018-01-01 00:12:00</td>\n",
              "      <td>2018-01-01 00:17:23</td>\n",
              "      <td>3304</td>\n",
              "      <td>323.0</td>\n",
              "      <td>69</td>\n",
              "      <td>Damen Ave &amp; Pierce Ave</td>\n",
              "      <td>159</td>\n",
              "      <td>Claremont Ave &amp; Hirsch St</td>\n",
              "      <td>Subscriber</td>\n",
              "      <td>Male</td>\n",
              "      <td>1988.0</td>\n",
              "      <td>0 days 00:05:23</td>\n",
              "      <td>5</td>\n",
              "      <td>Mon</td>\n",
              "    </tr>\n",
              "    <tr>\n",
              "      <th>1</th>\n",
              "      <td>17536703</td>\n",
              "      <td>2018-01-01 00:41:35</td>\n",
              "      <td>2018-01-01 00:47:52</td>\n",
              "      <td>5367</td>\n",
              "      <td>377.0</td>\n",
              "      <td>253</td>\n",
              "      <td>Winthrop Ave &amp; Lawrence Ave</td>\n",
              "      <td>325</td>\n",
              "      <td>Clark St &amp; Winnemac Ave (Temp)</td>\n",
              "      <td>Subscriber</td>\n",
              "      <td>Male</td>\n",
              "      <td>1984.0</td>\n",
              "      <td>0 days 00:06:17</td>\n",
              "      <td>6</td>\n",
              "      <td>Mon</td>\n",
              "    </tr>\n",
              "  </tbody>\n",
              "</table>\n",
              "</div>"
            ],
            "text/plain": [
              "    trip_id          start_time  ... ride_lenght_min  day_of_week\n",
              "0  17536702 2018-01-01 00:12:00  ...               5          Mon\n",
              "1  17536703 2018-01-01 00:41:35  ...               6          Mon\n",
              "\n",
              "[2 rows x 15 columns]"
            ]
          },
          "metadata": {
            "tags": []
          },
          "execution_count": 29
        }
      ]
    },
    {
      "cell_type": "code",
      "metadata": {
        "colab": {
          "base_uri": "https://localhost:8080/"
        },
        "id": "TX3qc1PdbHDq",
        "outputId": "072042c3-68f9-4223-ea55-340aa8ffab9f"
      },
      "source": [
        "df['usertype'].unique()"
      ],
      "execution_count": null,
      "outputs": [
        {
          "output_type": "execute_result",
          "data": {
            "text/plain": [
              "array(['Subscriber', 'Customer'], dtype=object)"
            ]
          },
          "metadata": {
            "tags": []
          },
          "execution_count": 30
        }
      ]
    },
    {
      "cell_type": "markdown",
      "metadata": {
        "id": "Ik9Ghyg_6gMe"
      },
      "source": [
        "I also created 'year', 'month' and 'day' from 'start_time'"
      ]
    },
    {
      "cell_type": "code",
      "metadata": {
        "colab": {
          "base_uri": "https://localhost:8080/",
          "height": 391
        },
        "id": "HbrxSj1AdRNE",
        "outputId": "cfe2c8c2-3b67-49ed-fd54-3e0719e11653"
      },
      "source": [
        "df['start_time'] = pd.to_datetime(df['start_time'], errors='coerce')\n",
        "df['year'] = df['start_time'].dt.year\n",
        "df['month'] = df['start_time'].dt.month\n",
        "df['day'] = df['start_time'].dt.day\n",
        "df.head()"
      ],
      "execution_count": null,
      "outputs": [
        {
          "output_type": "execute_result",
          "data": {
            "text/html": [
              "<div>\n",
              "<style scoped>\n",
              "    .dataframe tbody tr th:only-of-type {\n",
              "        vertical-align: middle;\n",
              "    }\n",
              "\n",
              "    .dataframe tbody tr th {\n",
              "        vertical-align: top;\n",
              "    }\n",
              "\n",
              "    .dataframe thead th {\n",
              "        text-align: right;\n",
              "    }\n",
              "</style>\n",
              "<table border=\"1\" class=\"dataframe\">\n",
              "  <thead>\n",
              "    <tr style=\"text-align: right;\">\n",
              "      <th></th>\n",
              "      <th>trip_id</th>\n",
              "      <th>start_time</th>\n",
              "      <th>end_time</th>\n",
              "      <th>bikeid</th>\n",
              "      <th>tripduration</th>\n",
              "      <th>from_station_id</th>\n",
              "      <th>from_station_name</th>\n",
              "      <th>to_station_id</th>\n",
              "      <th>to_station_name</th>\n",
              "      <th>usertype</th>\n",
              "      <th>gender</th>\n",
              "      <th>birthyear</th>\n",
              "      <th>ride_lenght</th>\n",
              "      <th>ride_lenght_min</th>\n",
              "      <th>day_of_week</th>\n",
              "      <th>year</th>\n",
              "      <th>month</th>\n",
              "      <th>day</th>\n",
              "    </tr>\n",
              "  </thead>\n",
              "  <tbody>\n",
              "    <tr>\n",
              "      <th>0</th>\n",
              "      <td>17536702</td>\n",
              "      <td>2018-01-01 00:12:00</td>\n",
              "      <td>2018-01-01 00:17:23</td>\n",
              "      <td>3304</td>\n",
              "      <td>323.0</td>\n",
              "      <td>69</td>\n",
              "      <td>Damen Ave &amp; Pierce Ave</td>\n",
              "      <td>159</td>\n",
              "      <td>Claremont Ave &amp; Hirsch St</td>\n",
              "      <td>Subscriber</td>\n",
              "      <td>Male</td>\n",
              "      <td>1988.0</td>\n",
              "      <td>0 days 00:05:23</td>\n",
              "      <td>5</td>\n",
              "      <td>Mon</td>\n",
              "      <td>2018</td>\n",
              "      <td>1</td>\n",
              "      <td>1</td>\n",
              "    </tr>\n",
              "    <tr>\n",
              "      <th>1</th>\n",
              "      <td>17536703</td>\n",
              "      <td>2018-01-01 00:41:35</td>\n",
              "      <td>2018-01-01 00:47:52</td>\n",
              "      <td>5367</td>\n",
              "      <td>377.0</td>\n",
              "      <td>253</td>\n",
              "      <td>Winthrop Ave &amp; Lawrence Ave</td>\n",
              "      <td>325</td>\n",
              "      <td>Clark St &amp; Winnemac Ave (Temp)</td>\n",
              "      <td>Subscriber</td>\n",
              "      <td>Male</td>\n",
              "      <td>1984.0</td>\n",
              "      <td>0 days 00:06:17</td>\n",
              "      <td>6</td>\n",
              "      <td>Mon</td>\n",
              "      <td>2018</td>\n",
              "      <td>1</td>\n",
              "      <td>1</td>\n",
              "    </tr>\n",
              "    <tr>\n",
              "      <th>2</th>\n",
              "      <td>17536704</td>\n",
              "      <td>2018-01-01 00:44:46</td>\n",
              "      <td>2018-01-01 01:33:10</td>\n",
              "      <td>4599</td>\n",
              "      <td>2,904.0</td>\n",
              "      <td>98</td>\n",
              "      <td>LaSalle St &amp; Washington St</td>\n",
              "      <td>509</td>\n",
              "      <td>Troy St &amp; North Ave</td>\n",
              "      <td>Subscriber</td>\n",
              "      <td>Male</td>\n",
              "      <td>1989.0</td>\n",
              "      <td>0 days 00:48:24</td>\n",
              "      <td>48</td>\n",
              "      <td>Mon</td>\n",
              "      <td>2018</td>\n",
              "      <td>1</td>\n",
              "      <td>1</td>\n",
              "    </tr>\n",
              "    <tr>\n",
              "      <th>3</th>\n",
              "      <td>17536705</td>\n",
              "      <td>2018-01-01 00:53:10</td>\n",
              "      <td>2018-01-01 01:05:37</td>\n",
              "      <td>2302</td>\n",
              "      <td>747.0</td>\n",
              "      <td>125</td>\n",
              "      <td>Rush St &amp; Hubbard St</td>\n",
              "      <td>364</td>\n",
              "      <td>Larrabee St &amp; Oak St</td>\n",
              "      <td>Subscriber</td>\n",
              "      <td>Male</td>\n",
              "      <td>1983.0</td>\n",
              "      <td>0 days 00:12:27</td>\n",
              "      <td>12</td>\n",
              "      <td>Mon</td>\n",
              "      <td>2018</td>\n",
              "      <td>1</td>\n",
              "      <td>1</td>\n",
              "    </tr>\n",
              "    <tr>\n",
              "      <th>4</th>\n",
              "      <td>17536706</td>\n",
              "      <td>2018-01-01 00:53:37</td>\n",
              "      <td>2018-01-01 00:56:40</td>\n",
              "      <td>3696</td>\n",
              "      <td>183.0</td>\n",
              "      <td>129</td>\n",
              "      <td>Blue Island Ave &amp; 18th St</td>\n",
              "      <td>205</td>\n",
              "      <td>Paulina St &amp; 18th St</td>\n",
              "      <td>Subscriber</td>\n",
              "      <td>Male</td>\n",
              "      <td>1989.0</td>\n",
              "      <td>0 days 00:03:03</td>\n",
              "      <td>3</td>\n",
              "      <td>Mon</td>\n",
              "      <td>2018</td>\n",
              "      <td>1</td>\n",
              "      <td>1</td>\n",
              "    </tr>\n",
              "  </tbody>\n",
              "</table>\n",
              "</div>"
            ],
            "text/plain": [
              "    trip_id          start_time             end_time  ...  year month  day\n",
              "0  17536702 2018-01-01 00:12:00  2018-01-01 00:17:23  ...  2018     1    1\n",
              "1  17536703 2018-01-01 00:41:35  2018-01-01 00:47:52  ...  2018     1    1\n",
              "2  17536704 2018-01-01 00:44:46  2018-01-01 01:33:10  ...  2018     1    1\n",
              "3  17536705 2018-01-01 00:53:10  2018-01-01 01:05:37  ...  2018     1    1\n",
              "4  17536706 2018-01-01 00:53:37  2018-01-01 00:56:40  ...  2018     1    1\n",
              "\n",
              "[5 rows x 18 columns]"
            ]
          },
          "metadata": {
            "tags": []
          },
          "execution_count": 31
        }
      ]
    },
    {
      "cell_type": "markdown",
      "metadata": {
        "id": "5z0X3Qxf7Fwv"
      },
      "source": [
        "My final feature was to creating new column of seasons. Which was probably the most difficult task to do accurately. Luckily I have worked with timeseries data before and had a solution ready.\n",
        "\n",
        "\n",
        "(note to self: Try to find a simpler solution)"
      ]
    },
    {
      "cell_type": "code",
      "metadata": {
        "id": "jEk48mstdsH_"
      },
      "source": [
        "# Function to get season from month\n",
        "def getSeason(date):\n",
        "    month = int(df1['month'])\n",
        "    if (month > 11 or month <= 3):\n",
        "       return \"WINTER\"\n",
        "    elif (month == 4 or month == 5):\n",
        "       return \"SPRING\"\n",
        "    elif (month >=6 and month <= 9):\n",
        "       return \"SUMMER\"\n",
        "    else:\n",
        "       return \"FALL\""
      ],
      "execution_count": null,
      "outputs": []
    },
    {
      "cell_type": "code",
      "metadata": {
        "id": "LwnhqArodvtW"
      },
      "source": [
        "date = df.start_time.dt.month*100 + df.start_time.dt.day\n",
        "df['season'] = (pd.cut(date,[0,321,620,922,1220,1300],\n",
        "                       labels=['winter','spring','summer','autumn','winter '])\n",
        "                  .str.strip()\n",
        "               )"
      ],
      "execution_count": null,
      "outputs": []
    },
    {
      "cell_type": "code",
      "metadata": {
        "id": "PjL5sKieeRTS"
      },
      "source": [
        "df['date_offset'] = (df.start_time.dt.month*100 + df.start_time.dt.day - 320)%1300\n",
        "\n",
        "df['season'] = pd.cut(df['date_offset'], [0, 300, 602, 900, 1300], \n",
        "                      labels=['spring', 'summer', 'autumn', 'winter'])"
      ],
      "execution_count": null,
      "outputs": []
    },
    {
      "cell_type": "code",
      "metadata": {
        "id": "Hf26TwVY2F_X"
      },
      "source": [
        "import calendar\n",
        "df['month'] = df['month'].apply(lambda x: calendar.month_abbr[x])"
      ],
      "execution_count": null,
      "outputs": []
    },
    {
      "cell_type": "code",
      "metadata": {
        "colab": {
          "base_uri": "https://localhost:8080/",
          "height": 391
        },
        "id": "O7-F7pHneb8p",
        "outputId": "a4fc1ba3-39e2-47d2-99ea-5bf05bcf1781"
      },
      "source": [
        "df.head()"
      ],
      "execution_count": null,
      "outputs": [
        {
          "output_type": "execute_result",
          "data": {
            "text/html": [
              "<div>\n",
              "<style scoped>\n",
              "    .dataframe tbody tr th:only-of-type {\n",
              "        vertical-align: middle;\n",
              "    }\n",
              "\n",
              "    .dataframe tbody tr th {\n",
              "        vertical-align: top;\n",
              "    }\n",
              "\n",
              "    .dataframe thead th {\n",
              "        text-align: right;\n",
              "    }\n",
              "</style>\n",
              "<table border=\"1\" class=\"dataframe\">\n",
              "  <thead>\n",
              "    <tr style=\"text-align: right;\">\n",
              "      <th></th>\n",
              "      <th>trip_id</th>\n",
              "      <th>start_time</th>\n",
              "      <th>end_time</th>\n",
              "      <th>bikeid</th>\n",
              "      <th>tripduration</th>\n",
              "      <th>from_station_id</th>\n",
              "      <th>from_station_name</th>\n",
              "      <th>to_station_id</th>\n",
              "      <th>to_station_name</th>\n",
              "      <th>usertype</th>\n",
              "      <th>gender</th>\n",
              "      <th>birthyear</th>\n",
              "      <th>ride_lenght</th>\n",
              "      <th>ride_lenght_min</th>\n",
              "      <th>day_of_week</th>\n",
              "      <th>year</th>\n",
              "      <th>month</th>\n",
              "      <th>day</th>\n",
              "      <th>season</th>\n",
              "      <th>date_offset</th>\n",
              "    </tr>\n",
              "  </thead>\n",
              "  <tbody>\n",
              "    <tr>\n",
              "      <th>0</th>\n",
              "      <td>17536702</td>\n",
              "      <td>2018-01-01 00:12:00</td>\n",
              "      <td>2018-01-01 00:17:23</td>\n",
              "      <td>3304</td>\n",
              "      <td>323.0</td>\n",
              "      <td>69</td>\n",
              "      <td>Damen Ave &amp; Pierce Ave</td>\n",
              "      <td>159</td>\n",
              "      <td>Claremont Ave &amp; Hirsch St</td>\n",
              "      <td>Subscriber</td>\n",
              "      <td>Male</td>\n",
              "      <td>1988.0</td>\n",
              "      <td>0 days 00:05:23</td>\n",
              "      <td>5</td>\n",
              "      <td>Mon</td>\n",
              "      <td>2018</td>\n",
              "      <td>Jan</td>\n",
              "      <td>1</td>\n",
              "      <td>winter</td>\n",
              "      <td>1081</td>\n",
              "    </tr>\n",
              "    <tr>\n",
              "      <th>1</th>\n",
              "      <td>17536703</td>\n",
              "      <td>2018-01-01 00:41:35</td>\n",
              "      <td>2018-01-01 00:47:52</td>\n",
              "      <td>5367</td>\n",
              "      <td>377.0</td>\n",
              "      <td>253</td>\n",
              "      <td>Winthrop Ave &amp; Lawrence Ave</td>\n",
              "      <td>325</td>\n",
              "      <td>Clark St &amp; Winnemac Ave (Temp)</td>\n",
              "      <td>Subscriber</td>\n",
              "      <td>Male</td>\n",
              "      <td>1984.0</td>\n",
              "      <td>0 days 00:06:17</td>\n",
              "      <td>6</td>\n",
              "      <td>Mon</td>\n",
              "      <td>2018</td>\n",
              "      <td>Jan</td>\n",
              "      <td>1</td>\n",
              "      <td>winter</td>\n",
              "      <td>1081</td>\n",
              "    </tr>\n",
              "    <tr>\n",
              "      <th>2</th>\n",
              "      <td>17536704</td>\n",
              "      <td>2018-01-01 00:44:46</td>\n",
              "      <td>2018-01-01 01:33:10</td>\n",
              "      <td>4599</td>\n",
              "      <td>2,904.0</td>\n",
              "      <td>98</td>\n",
              "      <td>LaSalle St &amp; Washington St</td>\n",
              "      <td>509</td>\n",
              "      <td>Troy St &amp; North Ave</td>\n",
              "      <td>Subscriber</td>\n",
              "      <td>Male</td>\n",
              "      <td>1989.0</td>\n",
              "      <td>0 days 00:48:24</td>\n",
              "      <td>48</td>\n",
              "      <td>Mon</td>\n",
              "      <td>2018</td>\n",
              "      <td>Jan</td>\n",
              "      <td>1</td>\n",
              "      <td>winter</td>\n",
              "      <td>1081</td>\n",
              "    </tr>\n",
              "    <tr>\n",
              "      <th>3</th>\n",
              "      <td>17536705</td>\n",
              "      <td>2018-01-01 00:53:10</td>\n",
              "      <td>2018-01-01 01:05:37</td>\n",
              "      <td>2302</td>\n",
              "      <td>747.0</td>\n",
              "      <td>125</td>\n",
              "      <td>Rush St &amp; Hubbard St</td>\n",
              "      <td>364</td>\n",
              "      <td>Larrabee St &amp; Oak St</td>\n",
              "      <td>Subscriber</td>\n",
              "      <td>Male</td>\n",
              "      <td>1983.0</td>\n",
              "      <td>0 days 00:12:27</td>\n",
              "      <td>12</td>\n",
              "      <td>Mon</td>\n",
              "      <td>2018</td>\n",
              "      <td>Jan</td>\n",
              "      <td>1</td>\n",
              "      <td>winter</td>\n",
              "      <td>1081</td>\n",
              "    </tr>\n",
              "    <tr>\n",
              "      <th>4</th>\n",
              "      <td>17536706</td>\n",
              "      <td>2018-01-01 00:53:37</td>\n",
              "      <td>2018-01-01 00:56:40</td>\n",
              "      <td>3696</td>\n",
              "      <td>183.0</td>\n",
              "      <td>129</td>\n",
              "      <td>Blue Island Ave &amp; 18th St</td>\n",
              "      <td>205</td>\n",
              "      <td>Paulina St &amp; 18th St</td>\n",
              "      <td>Subscriber</td>\n",
              "      <td>Male</td>\n",
              "      <td>1989.0</td>\n",
              "      <td>0 days 00:03:03</td>\n",
              "      <td>3</td>\n",
              "      <td>Mon</td>\n",
              "      <td>2018</td>\n",
              "      <td>Jan</td>\n",
              "      <td>1</td>\n",
              "      <td>winter</td>\n",
              "      <td>1081</td>\n",
              "    </tr>\n",
              "  </tbody>\n",
              "</table>\n",
              "</div>"
            ],
            "text/plain": [
              "    trip_id          start_time             end_time  ...  day  season  date_offset\n",
              "0  17536702 2018-01-01 00:12:00  2018-01-01 00:17:23  ...    1  winter         1081\n",
              "1  17536703 2018-01-01 00:41:35  2018-01-01 00:47:52  ...    1  winter         1081\n",
              "2  17536704 2018-01-01 00:44:46  2018-01-01 01:33:10  ...    1  winter         1081\n",
              "3  17536705 2018-01-01 00:53:10  2018-01-01 01:05:37  ...    1  winter         1081\n",
              "4  17536706 2018-01-01 00:53:37  2018-01-01 00:56:40  ...    1  winter         1081\n",
              "\n",
              "[5 rows x 20 columns]"
            ]
          },
          "metadata": {
            "tags": []
          },
          "execution_count": 36
        }
      ]
    },
    {
      "cell_type": "markdown",
      "metadata": {
        "id": "l1wfsvpn83yY"
      },
      "source": [
        "Upon further analysis I found that there are outliers in 'ride_length_min'(**Trip duration**). It showed that some of the riders rode for only a few seconds and some rode for days. As I saw before the trip duration was negative for some, this also must have been errors from the original datasets.\n",
        "So I decided that the best and simplest way to get rid of those outliers is to remove the rows that contain thelowest 1% and the heighest 1% of trip duration. Which removed all the outliers without removing too much data. "
      ]
    },
    {
      "cell_type": "code",
      "metadata": {
        "id": "j_6VPzglEBmr"
      },
      "source": [
        "#Removing outliers by getting rid of rows that contained the top 1% and \n",
        "#bottom 1% values of trip duration.\n",
        "\n",
        "q_low = df[\"ride_lenght_min\"].quantile(0.01)\n",
        "q_hi  = df[\"ride_lenght_min\"].quantile(0.99)\n",
        "\n",
        "df = df[(df[\"ride_lenght_min\"] < q_hi) & (df[\"ride_lenght_min\"] > q_low)]"
      ],
      "execution_count": null,
      "outputs": []
    },
    {
      "cell_type": "markdown",
      "metadata": {
        "id": "GvyqX5Fm_My1"
      },
      "source": [
        "# Analysis and visualization\n",
        "Once I was happy with my data cleaning and feature engineering, I moved on towards visualizing some of my data that are relevent to my initial questions"
      ]
    },
    {
      "cell_type": "markdown",
      "metadata": {
        "id": "e6FLxQAvAGhg"
      },
      "source": [
        "**A Catplot to compare average trip durations of customers vs subscribers in a given week**"
      ]
    },
    {
      "cell_type": "code",
      "metadata": {
        "colab": {
          "base_uri": "https://localhost:8080/",
          "height": 645
        },
        "id": "V3uYxUtm5eDg",
        "outputId": "b936e47b-53fc-43e7-8adb-b035a1b47cee"
      },
      "source": [
        "sns.set_theme(style=\"whitegrid\")\n",
        "\n",
        "sns.set(font_scale = 2)\n",
        "\n",
        "g = sns.catplot(\n",
        "    data=df, kind=\"bar\",\n",
        "    x=\"day_of_week\", y=\"ride_lenght_min\", hue=\"usertype\" ,\n",
        "     palette=\"dark\", alpha=.6, height=6\n",
        ")\n",
        "g.despine(left=True)\n",
        "\n",
        "g.set_axis_labels(\"\", \"Trip duration (Minute)\")\n",
        "g.legend.set_title(\"\")\n",
        "g.fig.set_size_inches(20,10)"
      ],
      "execution_count": null,
      "outputs": [
        {
          "output_type": "display_data",
          "data": {
            "image/png": "[encoded data removed]",
            "text/plain": [
              "<Figure size 1440x720 with 1 Axes>"
            ]
          },
          "metadata": {
            "tags": []
          }
        }
      ]
    },
    {
      "cell_type": "code",
      "metadata": {
        "colab": {
          "base_uri": "https://localhost:8080/",
          "height": 391
        },
        "id": "EWF5YtZxwcA1",
        "outputId": "5251796f-c77d-46e9-b257-9d4a6e9a82f8"
      },
      "source": [
        "df.head()"
      ],
      "execution_count": null,
      "outputs": [
        {
          "output_type": "execute_result",
          "data": {
            "text/html": [
              "<div>\n",
              "<style scoped>\n",
              "    .dataframe tbody tr th:only-of-type {\n",
              "        vertical-align: middle;\n",
              "    }\n",
              "\n",
              "    .dataframe tbody tr th {\n",
              "        vertical-align: top;\n",
              "    }\n",
              "\n",
              "    .dataframe thead th {\n",
              "        text-align: right;\n",
              "    }\n",
              "</style>\n",
              "<table border=\"1\" class=\"dataframe\">\n",
              "  <thead>\n",
              "    <tr style=\"text-align: right;\">\n",
              "      <th></th>\n",
              "      <th>trip_id</th>\n",
              "      <th>start_time</th>\n",
              "      <th>end_time</th>\n",
              "      <th>bikeid</th>\n",
              "      <th>tripduration</th>\n",
              "      <th>from_station_id</th>\n",
              "      <th>from_station_name</th>\n",
              "      <th>to_station_id</th>\n",
              "      <th>to_station_name</th>\n",
              "      <th>usertype</th>\n",
              "      <th>gender</th>\n",
              "      <th>birthyear</th>\n",
              "      <th>ride_lenght</th>\n",
              "      <th>ride_lenght_min</th>\n",
              "      <th>day_of_week</th>\n",
              "      <th>year</th>\n",
              "      <th>month</th>\n",
              "      <th>day</th>\n",
              "      <th>season</th>\n",
              "      <th>date_offset</th>\n",
              "    </tr>\n",
              "  </thead>\n",
              "  <tbody>\n",
              "    <tr>\n",
              "      <th>0</th>\n",
              "      <td>17536702</td>\n",
              "      <td>2018-01-01 00:12:00</td>\n",
              "      <td>2018-01-01 00:17:23</td>\n",
              "      <td>3304</td>\n",
              "      <td>323.0</td>\n",
              "      <td>69</td>\n",
              "      <td>Damen Ave &amp; Pierce Ave</td>\n",
              "      <td>159</td>\n",
              "      <td>Claremont Ave &amp; Hirsch St</td>\n",
              "      <td>Subscriber</td>\n",
              "      <td>Male</td>\n",
              "      <td>1988.0</td>\n",
              "      <td>0 days 00:05:23</td>\n",
              "      <td>5</td>\n",
              "      <td>Mon</td>\n",
              "      <td>2018</td>\n",
              "      <td>Jan</td>\n",
              "      <td>1</td>\n",
              "      <td>winter</td>\n",
              "      <td>1081</td>\n",
              "    </tr>\n",
              "    <tr>\n",
              "      <th>1</th>\n",
              "      <td>17536703</td>\n",
              "      <td>2018-01-01 00:41:35</td>\n",
              "      <td>2018-01-01 00:47:52</td>\n",
              "      <td>5367</td>\n",
              "      <td>377.0</td>\n",
              "      <td>253</td>\n",
              "      <td>Winthrop Ave &amp; Lawrence Ave</td>\n",
              "      <td>325</td>\n",
              "      <td>Clark St &amp; Winnemac Ave (Temp)</td>\n",
              "      <td>Subscriber</td>\n",
              "      <td>Male</td>\n",
              "      <td>1984.0</td>\n",
              "      <td>0 days 00:06:17</td>\n",
              "      <td>6</td>\n",
              "      <td>Mon</td>\n",
              "      <td>2018</td>\n",
              "      <td>Jan</td>\n",
              "      <td>1</td>\n",
              "      <td>winter</td>\n",
              "      <td>1081</td>\n",
              "    </tr>\n",
              "    <tr>\n",
              "      <th>2</th>\n",
              "      <td>17536704</td>\n",
              "      <td>2018-01-01 00:44:46</td>\n",
              "      <td>2018-01-01 01:33:10</td>\n",
              "      <td>4599</td>\n",
              "      <td>2,904.0</td>\n",
              "      <td>98</td>\n",
              "      <td>LaSalle St &amp; Washington St</td>\n",
              "      <td>509</td>\n",
              "      <td>Troy St &amp; North Ave</td>\n",
              "      <td>Subscriber</td>\n",
              "      <td>Male</td>\n",
              "      <td>1989.0</td>\n",
              "      <td>0 days 00:48:24</td>\n",
              "      <td>48</td>\n",
              "      <td>Mon</td>\n",
              "      <td>2018</td>\n",
              "      <td>Jan</td>\n",
              "      <td>1</td>\n",
              "      <td>winter</td>\n",
              "      <td>1081</td>\n",
              "    </tr>\n",
              "    <tr>\n",
              "      <th>3</th>\n",
              "      <td>17536705</td>\n",
              "      <td>2018-01-01 00:53:10</td>\n",
              "      <td>2018-01-01 01:05:37</td>\n",
              "      <td>2302</td>\n",
              "      <td>747.0</td>\n",
              "      <td>125</td>\n",
              "      <td>Rush St &amp; Hubbard St</td>\n",
              "      <td>364</td>\n",
              "      <td>Larrabee St &amp; Oak St</td>\n",
              "      <td>Subscriber</td>\n",
              "      <td>Male</td>\n",
              "      <td>1983.0</td>\n",
              "      <td>0 days 00:12:27</td>\n",
              "      <td>12</td>\n",
              "      <td>Mon</td>\n",
              "      <td>2018</td>\n",
              "      <td>Jan</td>\n",
              "      <td>1</td>\n",
              "      <td>winter</td>\n",
              "      <td>1081</td>\n",
              "    </tr>\n",
              "    <tr>\n",
              "      <th>4</th>\n",
              "      <td>17536706</td>\n",
              "      <td>2018-01-01 00:53:37</td>\n",
              "      <td>2018-01-01 00:56:40</td>\n",
              "      <td>3696</td>\n",
              "      <td>183.0</td>\n",
              "      <td>129</td>\n",
              "      <td>Blue Island Ave &amp; 18th St</td>\n",
              "      <td>205</td>\n",
              "      <td>Paulina St &amp; 18th St</td>\n",
              "      <td>Subscriber</td>\n",
              "      <td>Male</td>\n",
              "      <td>1989.0</td>\n",
              "      <td>0 days 00:03:03</td>\n",
              "      <td>3</td>\n",
              "      <td>Mon</td>\n",
              "      <td>2018</td>\n",
              "      <td>Jan</td>\n",
              "      <td>1</td>\n",
              "      <td>winter</td>\n",
              "      <td>1081</td>\n",
              "    </tr>\n",
              "  </tbody>\n",
              "</table>\n",
              "</div>"
            ],
            "text/plain": [
              "    trip_id          start_time             end_time  ...  day  season  date_offset\n",
              "0  17536702 2018-01-01 00:12:00  2018-01-01 00:17:23  ...    1  winter         1081\n",
              "1  17536703 2018-01-01 00:41:35  2018-01-01 00:47:52  ...    1  winter         1081\n",
              "2  17536704 2018-01-01 00:44:46  2018-01-01 01:33:10  ...    1  winter         1081\n",
              "3  17536705 2018-01-01 00:53:10  2018-01-01 01:05:37  ...    1  winter         1081\n",
              "4  17536706 2018-01-01 00:53:37  2018-01-01 00:56:40  ...    1  winter         1081\n",
              "\n",
              "[5 rows x 20 columns]"
            ]
          },
          "metadata": {
            "tags": []
          },
          "execution_count": 41
        }
      ]
    },
    {
      "cell_type": "code",
      "metadata": {
        "colab": {
          "base_uri": "https://localhost:8080/"
        },
        "id": "HMRfdZSDvi8d",
        "outputId": "e06b09aa-7ae8-424a-b44a-19c5779e7921"
      },
      "source": [
        "(df.loc[df.usertype == 'Subscriber'])['ride_lenght_min'].sum()\n"
      ],
      "execution_count": null,
      "outputs": [
        {
          "output_type": "execute_result",
          "data": {
            "text/plain": [
              "33783705"
            ]
          },
          "metadata": {
            "tags": []
          },
          "execution_count": 42
        }
      ]
    },
    {
      "cell_type": "code",
      "metadata": {
        "colab": {
          "base_uri": "https://localhost:8080/"
        },
        "id": "Bn8BaewCzEvO",
        "outputId": "fabd650d-730a-4b99-b307-f4448d12e0ac"
      },
      "source": [
        "(df.loc[df.usertype == 'Customer'])['ride_lenght_min'].sum()\n"
      ],
      "execution_count": null,
      "outputs": [
        {
          "output_type": "execute_result",
          "data": {
            "text/plain": [
              "21993892"
            ]
          },
          "metadata": {
            "tags": []
          },
          "execution_count": 43
        }
      ]
    },
    {
      "cell_type": "code",
      "metadata": {
        "colab": {
          "base_uri": "https://localhost:8080/"
        },
        "id": "h2v7W49gvNwV",
        "outputId": "c79c3a1c-c4d0-4e75-8e29-a2c2ef61b47f"
      },
      "source": [
        "df['usertype'].value_counts()"
      ],
      "execution_count": null,
      "outputs": [
        {
          "output_type": "execute_result",
          "data": {
            "text/plain": [
              "Subscriber    2794671\n",
              "Customer       640852\n",
              "Name: usertype, dtype: int64"
            ]
          },
          "metadata": {
            "tags": []
          },
          "execution_count": 44
        }
      ]
    },
    {
      "cell_type": "markdown",
      "metadata": {
        "id": "YkopYer_A7Xc"
      },
      "source": [
        "**Comparison between total number of customers and total number of subscribers**"
      ]
    },
    {
      "cell_type": "code",
      "metadata": {
        "colab": {
          "base_uri": "https://localhost:8080/",
          "height": 600
        },
        "id": "ym5SrriunFsp",
        "outputId": "454b9f59-593c-46a6-f91e-73889affce8f"
      },
      "source": [
        "df['usertype'].value_counts().plot(kind='pie', explode = (0, 0.1), \n",
        "                                   autopct='%1.1f%%', shadow=True, startangle=90,\n",
        "                                   title = 'Ratio between Customer and Subscriber',\n",
        "                                   figsize = (10,10),  textprops=dict(color=\"w\"))\n",
        "import matplotlib as mpl\n",
        "mpl.rcParams['font.size'] = 30"
      ],
      "execution_count": null,
      "outputs": [
        {
          "output_type": "display_data",
          "data": {
            "image/png": "[encoded data removed]",
            "text/plain": [
              "<Figure size 720x720 with 1 Axes>"
            ]
          },
          "metadata": {
            "tags": []
          }
        }
      ]
    },
    {
      "cell_type": "markdown",
      "metadata": {
        "id": "XEiBT7elBQa1"
      },
      "source": [
        "**Comparison between total trip duration of customers vs total trip duration of subscribers**"
      ]
    },
    {
      "cell_type": "code",
      "metadata": {
        "colab": {
          "base_uri": "https://localhost:8080/",
          "height": 575
        },
        "id": "f746fViQUK1z",
        "outputId": "10d2dc1c-c6e9-477c-fbf7-659cc8526f16"
      },
      "source": [
        "import matplotlib.pyplot as plt\n",
        "explode = (0, 0.1)\n",
        "labels = 'Subscriber', 'Customer'\n",
        "\n",
        "fig1, ax1 = plt.subplots()\n",
        "ax1.pie([(df.loc[df.usertype == 'Subscriber'])['ride_lenght_min'].sum(),(df.loc[df.usertype == 'Customer'])['ride_lenght_min'].sum()], \n",
        "        explode=explode, labels=labels, autopct='%1.1f%%',\n",
        "        shadow=True, startangle=90, textprops=dict(color=\"w\"))\n",
        "ax1.axis('equal')  # Equal aspect ratio ensures that pie is drawn as a circle.\n",
        "\n",
        "import matplotlib as mpl\n",
        "mpl.rcParams['font.size'] = 5\n",
        "\n",
        "fig1.set_size_inches(10, 10)\n",
        "\n",
        "\n",
        "plt.show()"
      ],
      "execution_count": null,
      "outputs": [
        {
          "output_type": "display_data",
          "data": {
            "image/png": "[encoded data removed]",
            "text/plain": [
              "<Figure size 720x720 with 1 Axes>"
            ]
          },
          "metadata": {
            "tags": []
          }
        }
      ]
    },
    {
      "cell_type": "markdown",
      "metadata": {
        "id": "-2ZAd0aUEt73"
      },
      "source": [
        "**Trip duration comparison over the year**"
      ]
    },
    {
      "cell_type": "code",
      "metadata": {
        "colab": {
          "base_uri": "https://localhost:8080/",
          "height": 649
        },
        "id": "Kf3DUcSU9sgk",
        "outputId": "4e65427a-2aef-4a53-fa1b-54dd46aadb4c"
      },
      "source": [
        "sns.set_theme(style=\"darkgrid\")\n",
        "sns.set(font_scale = 2)\n",
        "fig, ax = plt.subplots(figsize=(20,10))\n",
        "\n",
        "\n",
        "sns.lineplot(x=\"month\", y=\"ride_lenght_min\",\n",
        "             hue=\"usertype\", data=df, ax=ax)"
      ],
      "execution_count": null,
      "outputs": [
        {
          "output_type": "execute_result",
          "data": {
            "text/plain": [
              "<matplotlib.axes._subplots.AxesSubplot at 0x7fe3d13adc10>"
            ]
          },
          "metadata": {
            "tags": []
          },
          "execution_count": 47
        },
        {
          "output_type": "display_data",
          "data": {
            "image/png": "[encoded data removed]",
            "text/plain": [
              "<Figure size 1440x720 with 1 Axes>"
            ]
          },
          "metadata": {
            "tags": []
          }
        }
      ]
    },
    {
      "cell_type": "code",
      "metadata": {
        "colab": {
          "base_uri": "https://localhost:8080/",
          "height": 379
        },
        "id": "6rzRJ4UMB7C-",
        "outputId": "aa1d0cd0-2b9f-4c08-85c2-e322a1b73845"
      },
      "source": [
        "plt.hist(df['ride_lenght_min'].loc[df['usertype'] == 'Subscriber'], plt.ticklabel_format(style = 'plain'))\n",
        "\n",
        "\n"
      ],
      "execution_count": null,
      "outputs": [
        {
          "output_type": "execute_result",
          "data": {
            "text/plain": [
              "(array([2.012881e+06, 5.837550e+05, 1.519100e+05, 3.199000e+04,\n",
              "        6.815000e+03, 3.207000e+03, 1.768000e+03, 1.061000e+03,\n",
              "        7.710000e+02, 5.130000e+02]),\n",
              " array([  3. ,  14.8,  26.6,  38.4,  50.2,  62. ,  73.8,  85.6,  97.4,\n",
              "        109.2, 121. ]),\n",
              " <a list of 10 Patch objects>)"
            ]
          },
          "metadata": {
            "tags": []
          },
          "execution_count": 49
        },
        {
          "output_type": "display_data",
          "data": {
            "image/png": "[encoded data removed]",
            "text/plain": [
              "<Figure size 432x288 with 1 Axes>"
            ]
          },
          "metadata": {
            "tags": []
          }
        }
      ]
    },
    {
      "cell_type": "markdown",
      "metadata": {
        "id": "c099DXNSFAA1"
      },
      "source": [
        "**Ride pattern of customers**"
      ]
    },
    {
      "cell_type": "code",
      "metadata": {
        "colab": {
          "base_uri": "https://localhost:8080/",
          "height": 620
        },
        "id": "APMySSEgIFKb",
        "outputId": "d5c4857e-d188-473b-c872-24a6542e26f5"
      },
      "source": [
        "df['ride_lenght_min'].loc[df['usertype'] == 'Customer'].hist(bins=10, color='chocolate', figsize = (10,10), xlabelsize = 20, ylabelsize = 20)\n"
      ],
      "execution_count": null,
      "outputs": [
        {
          "output_type": "execute_result",
          "data": {
            "text/plain": [
              "<matplotlib.axes._subplots.AxesSubplot at 0x7fe3d15fe110>"
            ]
          },
          "metadata": {
            "tags": []
          },
          "execution_count": 50
        },
        {
          "output_type": "display_data",
          "data": {
            "image/png": "[encoded data removed]",
            "text/plain": [
              "<Figure size 720x720 with 1 Axes>"
            ]
          },
          "metadata": {
            "tags": []
          }
        }
      ]
    },
    {
      "cell_type": "markdown",
      "metadata": {
        "id": "JcTt7Nx0FFiM"
      },
      "source": [
        "**Ride pattern of subscribers**"
      ]
    },
    {
      "cell_type": "code",
      "metadata": {
        "colab": {
          "base_uri": "https://localhost:8080/",
          "height": 639
        },
        "id": "CHF7H0-llt0s",
        "outputId": "5e312132-3fee-4301-d7fb-6c6f7edbe24b"
      },
      "source": [
        "df['ride_lenght_min'].loc[df['usertype'] == 'Subscriber'].hist(bins=10, figsize = (10,10), xlabelsize = 20, ylabelsize = 20)"
      ],
      "execution_count": null,
      "outputs": [
        {
          "output_type": "execute_result",
          "data": {
            "text/plain": [
              "<matplotlib.axes._subplots.AxesSubplot at 0x7fe3d1515d50>"
            ]
          },
          "metadata": {
            "tags": []
          },
          "execution_count": 51
        },
        {
          "output_type": "display_data",
          "data": {
            "image/png": "[encoded data removed]",
            "text/plain": [
              "<Figure size 720x720 with 1 Axes>"
            ]
          },
          "metadata": {
            "tags": []
          }
        }
      ]
    },
    {
      "cell_type": "code",
      "metadata": {
        "colab": {
          "base_uri": "https://localhost:8080/"
        },
        "id": "-06DGAlv_vEv",
        "outputId": "b918698d-248b-4dc3-d57b-26b60bb71906"
      },
      "source": [
        "df['ride_lenght_min'].describe()"
      ],
      "execution_count": null,
      "outputs": [
        {
          "output_type": "execute_result",
          "data": {
            "text/plain": [
              "count    3.435523e+06\n",
              "mean     1.623555e+01\n",
              "std      1.621383e+01\n",
              "min      3.000000e+00\n",
              "25%      6.000000e+00\n",
              "50%      1.100000e+01\n",
              "75%      2.000000e+01\n",
              "max      1.210000e+02\n",
              "Name: ride_lenght_min, dtype: float64"
            ]
          },
          "metadata": {
            "tags": []
          },
          "execution_count": 52
        }
      ]
    },
    {
      "cell_type": "code",
      "metadata": {
        "colab": {
          "base_uri": "https://localhost:8080/",
          "height": 602
        },
        "id": "QJGJjsAcbUHH",
        "outputId": "26dde362-1046-436c-ba42-82043b8f34f0"
      },
      "source": [
        "df.groupby('from_station_name').count()"
      ],
      "execution_count": null,
      "outputs": [
        {
          "output_type": "execute_result",
          "data": {
            "text/html": [
              "<div>\n",
              "<style scoped>\n",
              "    .dataframe tbody tr th:only-of-type {\n",
              "        vertical-align: middle;\n",
              "    }\n",
              "\n",
              "    .dataframe tbody tr th {\n",
              "        vertical-align: top;\n",
              "    }\n",
              "\n",
              "    .dataframe thead th {\n",
              "        text-align: right;\n",
              "    }\n",
              "</style>\n",
              "<table border=\"1\" class=\"dataframe\">\n",
              "  <thead>\n",
              "    <tr style=\"text-align: right;\">\n",
              "      <th></th>\n",
              "      <th>trip_id</th>\n",
              "      <th>start_time</th>\n",
              "      <th>end_time</th>\n",
              "      <th>bikeid</th>\n",
              "      <th>tripduration</th>\n",
              "      <th>from_station_id</th>\n",
              "      <th>to_station_id</th>\n",
              "      <th>to_station_name</th>\n",
              "      <th>usertype</th>\n",
              "      <th>gender</th>\n",
              "      <th>birthyear</th>\n",
              "      <th>ride_lenght</th>\n",
              "      <th>ride_lenght_min</th>\n",
              "      <th>day_of_week</th>\n",
              "      <th>year</th>\n",
              "      <th>month</th>\n",
              "      <th>day</th>\n",
              "      <th>season</th>\n",
              "      <th>date_offset</th>\n",
              "    </tr>\n",
              "    <tr>\n",
              "      <th>from_station_name</th>\n",
              "      <th></th>\n",
              "      <th></th>\n",
              "      <th></th>\n",
              "      <th></th>\n",
              "      <th></th>\n",
              "      <th></th>\n",
              "      <th></th>\n",
              "      <th></th>\n",
              "      <th></th>\n",
              "      <th></th>\n",
              "      <th></th>\n",
              "      <th></th>\n",
              "      <th></th>\n",
              "      <th></th>\n",
              "      <th></th>\n",
              "      <th></th>\n",
              "      <th></th>\n",
              "      <th></th>\n",
              "      <th></th>\n",
              "    </tr>\n",
              "  </thead>\n",
              "  <tbody>\n",
              "    <tr>\n",
              "      <th>2112 W Peterson Ave</th>\n",
              "      <td>450</td>\n",
              "      <td>450</td>\n",
              "      <td>450</td>\n",
              "      <td>450</td>\n",
              "      <td>450</td>\n",
              "      <td>450</td>\n",
              "      <td>450</td>\n",
              "      <td>450</td>\n",
              "      <td>450</td>\n",
              "      <td>388</td>\n",
              "      <td>389</td>\n",
              "      <td>450</td>\n",
              "      <td>450</td>\n",
              "      <td>450</td>\n",
              "      <td>450</td>\n",
              "      <td>450</td>\n",
              "      <td>450</td>\n",
              "      <td>448</td>\n",
              "      <td>450</td>\n",
              "    </tr>\n",
              "    <tr>\n",
              "      <th>63rd St Beach</th>\n",
              "      <td>878</td>\n",
              "      <td>878</td>\n",
              "      <td>878</td>\n",
              "      <td>878</td>\n",
              "      <td>878</td>\n",
              "      <td>878</td>\n",
              "      <td>878</td>\n",
              "      <td>878</td>\n",
              "      <td>878</td>\n",
              "      <td>504</td>\n",
              "      <td>505</td>\n",
              "      <td>878</td>\n",
              "      <td>878</td>\n",
              "      <td>878</td>\n",
              "      <td>878</td>\n",
              "      <td>878</td>\n",
              "      <td>878</td>\n",
              "      <td>877</td>\n",
              "      <td>878</td>\n",
              "    </tr>\n",
              "    <tr>\n",
              "      <th>900 W Harrison St</th>\n",
              "      <td>5718</td>\n",
              "      <td>5718</td>\n",
              "      <td>5718</td>\n",
              "      <td>5718</td>\n",
              "      <td>5718</td>\n",
              "      <td>5718</td>\n",
              "      <td>5718</td>\n",
              "      <td>5718</td>\n",
              "      <td>5718</td>\n",
              "      <td>5319</td>\n",
              "      <td>5323</td>\n",
              "      <td>5718</td>\n",
              "      <td>5718</td>\n",
              "      <td>5718</td>\n",
              "      <td>5718</td>\n",
              "      <td>5718</td>\n",
              "      <td>5718</td>\n",
              "      <td>5710</td>\n",
              "      <td>5718</td>\n",
              "    </tr>\n",
              "    <tr>\n",
              "      <th>Aberdeen St &amp; Jackson Blvd</th>\n",
              "      <td>11204</td>\n",
              "      <td>11204</td>\n",
              "      <td>11204</td>\n",
              "      <td>11204</td>\n",
              "      <td>11204</td>\n",
              "      <td>11204</td>\n",
              "      <td>11204</td>\n",
              "      <td>11204</td>\n",
              "      <td>11204</td>\n",
              "      <td>10599</td>\n",
              "      <td>10609</td>\n",
              "      <td>11204</td>\n",
              "      <td>11204</td>\n",
              "      <td>11204</td>\n",
              "      <td>11204</td>\n",
              "      <td>11204</td>\n",
              "      <td>11204</td>\n",
              "      <td>11184</td>\n",
              "      <td>11204</td>\n",
              "    </tr>\n",
              "    <tr>\n",
              "      <th>Aberdeen St &amp; Monroe St</th>\n",
              "      <td>9506</td>\n",
              "      <td>9506</td>\n",
              "      <td>9506</td>\n",
              "      <td>9506</td>\n",
              "      <td>9506</td>\n",
              "      <td>9506</td>\n",
              "      <td>9506</td>\n",
              "      <td>9506</td>\n",
              "      <td>9506</td>\n",
              "      <td>9119</td>\n",
              "      <td>9121</td>\n",
              "      <td>9506</td>\n",
              "      <td>9506</td>\n",
              "      <td>9506</td>\n",
              "      <td>9506</td>\n",
              "      <td>9506</td>\n",
              "      <td>9506</td>\n",
              "      <td>9479</td>\n",
              "      <td>9506</td>\n",
              "    </tr>\n",
              "    <tr>\n",
              "      <th>...</th>\n",
              "      <td>...</td>\n",
              "      <td>...</td>\n",
              "      <td>...</td>\n",
              "      <td>...</td>\n",
              "      <td>...</td>\n",
              "      <td>...</td>\n",
              "      <td>...</td>\n",
              "      <td>...</td>\n",
              "      <td>...</td>\n",
              "      <td>...</td>\n",
              "      <td>...</td>\n",
              "      <td>...</td>\n",
              "      <td>...</td>\n",
              "      <td>...</td>\n",
              "      <td>...</td>\n",
              "      <td>...</td>\n",
              "      <td>...</td>\n",
              "      <td>...</td>\n",
              "      <td>...</td>\n",
              "    </tr>\n",
              "    <tr>\n",
              "      <th>Wood St &amp; Taylor St</th>\n",
              "      <td>5839</td>\n",
              "      <td>5839</td>\n",
              "      <td>5839</td>\n",
              "      <td>5839</td>\n",
              "      <td>5839</td>\n",
              "      <td>5839</td>\n",
              "      <td>5839</td>\n",
              "      <td>5839</td>\n",
              "      <td>5839</td>\n",
              "      <td>5666</td>\n",
              "      <td>5671</td>\n",
              "      <td>5839</td>\n",
              "      <td>5839</td>\n",
              "      <td>5839</td>\n",
              "      <td>5839</td>\n",
              "      <td>5839</td>\n",
              "      <td>5839</td>\n",
              "      <td>5825</td>\n",
              "      <td>5839</td>\n",
              "    </tr>\n",
              "    <tr>\n",
              "      <th>Woodlawn Ave &amp; 55th St</th>\n",
              "      <td>3038</td>\n",
              "      <td>3038</td>\n",
              "      <td>3038</td>\n",
              "      <td>3038</td>\n",
              "      <td>3038</td>\n",
              "      <td>3038</td>\n",
              "      <td>3038</td>\n",
              "      <td>3038</td>\n",
              "      <td>3038</td>\n",
              "      <td>2645</td>\n",
              "      <td>2665</td>\n",
              "      <td>3038</td>\n",
              "      <td>3038</td>\n",
              "      <td>3038</td>\n",
              "      <td>3038</td>\n",
              "      <td>3038</td>\n",
              "      <td>3038</td>\n",
              "      <td>3033</td>\n",
              "      <td>3038</td>\n",
              "    </tr>\n",
              "    <tr>\n",
              "      <th>Woodlawn Ave &amp; 75th St</th>\n",
              "      <td>29</td>\n",
              "      <td>29</td>\n",
              "      <td>29</td>\n",
              "      <td>29</td>\n",
              "      <td>29</td>\n",
              "      <td>29</td>\n",
              "      <td>29</td>\n",
              "      <td>29</td>\n",
              "      <td>29</td>\n",
              "      <td>29</td>\n",
              "      <td>29</td>\n",
              "      <td>29</td>\n",
              "      <td>29</td>\n",
              "      <td>29</td>\n",
              "      <td>29</td>\n",
              "      <td>29</td>\n",
              "      <td>29</td>\n",
              "      <td>29</td>\n",
              "      <td>29</td>\n",
              "    </tr>\n",
              "    <tr>\n",
              "      <th>Woodlawn Ave &amp; Lake Park Ave</th>\n",
              "      <td>984</td>\n",
              "      <td>984</td>\n",
              "      <td>984</td>\n",
              "      <td>984</td>\n",
              "      <td>984</td>\n",
              "      <td>984</td>\n",
              "      <td>984</td>\n",
              "      <td>984</td>\n",
              "      <td>984</td>\n",
              "      <td>841</td>\n",
              "      <td>847</td>\n",
              "      <td>984</td>\n",
              "      <td>984</td>\n",
              "      <td>984</td>\n",
              "      <td>984</td>\n",
              "      <td>984</td>\n",
              "      <td>984</td>\n",
              "      <td>982</td>\n",
              "      <td>984</td>\n",
              "    </tr>\n",
              "    <tr>\n",
              "      <th>Yates Blvd &amp; 75th St</th>\n",
              "      <td>100</td>\n",
              "      <td>100</td>\n",
              "      <td>100</td>\n",
              "      <td>100</td>\n",
              "      <td>100</td>\n",
              "      <td>100</td>\n",
              "      <td>100</td>\n",
              "      <td>100</td>\n",
              "      <td>100</td>\n",
              "      <td>93</td>\n",
              "      <td>93</td>\n",
              "      <td>100</td>\n",
              "      <td>100</td>\n",
              "      <td>100</td>\n",
              "      <td>100</td>\n",
              "      <td>100</td>\n",
              "      <td>100</td>\n",
              "      <td>100</td>\n",
              "      <td>100</td>\n",
              "    </tr>\n",
              "  </tbody>\n",
              "</table>\n",
              "<p>622 rows × 19 columns</p>\n",
              "</div>"
            ],
            "text/plain": [
              "                              trip_id  start_time  ...  season  date_offset\n",
              "from_station_name                                  ...                     \n",
              "2112 W Peterson Ave               450         450  ...     448          450\n",
              "63rd St Beach                     878         878  ...     877          878\n",
              "900 W Harrison St                5718        5718  ...    5710         5718\n",
              "Aberdeen St & Jackson Blvd      11204       11204  ...   11184        11204\n",
              "Aberdeen St & Monroe St          9506        9506  ...    9479         9506\n",
              "...                               ...         ...  ...     ...          ...\n",
              "Wood St & Taylor St              5839        5839  ...    5825         5839\n",
              "Woodlawn Ave & 55th St           3038        3038  ...    3033         3038\n",
              "Woodlawn Ave & 75th St             29          29  ...      29           29\n",
              "Woodlawn Ave & Lake Park Ave      984         984  ...     982          984\n",
              "Yates Blvd & 75th St              100         100  ...     100          100\n",
              "\n",
              "[622 rows x 19 columns]"
            ]
          },
          "metadata": {
            "tags": []
          },
          "execution_count": 53
        }
      ]
    },
    {
      "cell_type": "code",
      "metadata": {
        "colab": {
          "base_uri": "https://localhost:8080/"
        },
        "id": "KebYIhWxq_Be",
        "outputId": "5cc3d724-47b0-486d-f5b1-3e4dba0f210b"
      },
      "source": [
        "top_10_S = df['from_station_name'].loc[df['usertype'] == 'Subscriber'].value_counts().nlargest(10).index.tolist()\n",
        "top_10_S"
      ],
      "execution_count": null,
      "outputs": [
        {
          "output_type": "execute_result",
          "data": {
            "text/plain": [
              "['Canal St & Adams St',\n",
              " 'Clinton St & Madison St',\n",
              " 'Clinton St & Washington Blvd',\n",
              " 'Canal St & Madison St',\n",
              " 'Daley Center Plaza',\n",
              " 'Kingsbury St & Kinzie St',\n",
              " 'Michigan Ave & Washington St',\n",
              " 'Franklin St & Monroe St',\n",
              " 'Columbus Dr & Randolph St',\n",
              " 'Orleans St & Merchandise Mart Plaza']"
            ]
          },
          "metadata": {
            "tags": []
          },
          "execution_count": 54
        }
      ]
    },
    {
      "cell_type": "code",
      "metadata": {
        "colab": {
          "base_uri": "https://localhost:8080/"
        },
        "id": "HNdnVX4kwJjP",
        "outputId": "0ed54c9d-1fee-41fb-b85d-e7246e0dda32"
      },
      "source": [
        "top_10_C = df['from_station_name'].loc[df['usertype'] == 'Customer'].value_counts().nlargest(10).index.tolist()\n",
        "top_10_C"
      ],
      "execution_count": null,
      "outputs": [
        {
          "output_type": "execute_result",
          "data": {
            "text/plain": [
              "['Streeter Dr & Grand Ave',\n",
              " 'Lake Shore Dr & Monroe St',\n",
              " 'Millennium Park',\n",
              " 'Shedd Aquarium',\n",
              " 'Michigan Ave & Oak St',\n",
              " 'Lake Shore Dr & North Blvd',\n",
              " 'Theater on the Lake',\n",
              " 'Adler Planetarium',\n",
              " 'Dusable Harbor',\n",
              " 'Michigan Ave & Washington St']"
            ]
          },
          "metadata": {
            "tags": []
          },
          "execution_count": 55
        }
      ]
    },
    {
      "cell_type": "markdown",
      "metadata": {
        "id": "g5OAsUNVFfej"
      },
      "source": [
        "Finally I created a table contains the top 10 stations visited by the customers and subscribers"
      ]
    },
    {
      "cell_type": "code",
      "metadata": {
        "colab": {
          "base_uri": "https://localhost:8080/",
          "height": 357
        },
        "id": "MKtUOybzxDaC",
        "outputId": "e4fcb7cb-9de5-4828-fddd-9911a5f80a75"
      },
      "source": [
        "top_places = pd.DataFrame(data = {'Most visited station by Customers': top_10_C,'Most visited station by Subscribers': top_10_S} )\n",
        "top_places.head(10)"
      ],
      "execution_count": null,
      "outputs": [
        {
          "output_type": "execute_result",
          "data": {
            "text/html": [
              "<div>\n",
              "<style scoped>\n",
              "    .dataframe tbody tr th:only-of-type {\n",
              "        vertical-align: middle;\n",
              "    }\n",
              "\n",
              "    .dataframe tbody tr th {\n",
              "        vertical-align: top;\n",
              "    }\n",
              "\n",
              "    .dataframe thead th {\n",
              "        text-align: right;\n",
              "    }\n",
              "</style>\n",
              "<table border=\"1\" class=\"dataframe\">\n",
              "  <thead>\n",
              "    <tr style=\"text-align: right;\">\n",
              "      <th></th>\n",
              "      <th>Most visited station by Customers</th>\n",
              "      <th>Most visited station by Subscribers</th>\n",
              "    </tr>\n",
              "  </thead>\n",
              "  <tbody>\n",
              "    <tr>\n",
              "      <th>0</th>\n",
              "      <td>Streeter Dr &amp; Grand Ave</td>\n",
              "      <td>Canal St &amp; Adams St</td>\n",
              "    </tr>\n",
              "    <tr>\n",
              "      <th>1</th>\n",
              "      <td>Lake Shore Dr &amp; Monroe St</td>\n",
              "      <td>Clinton St &amp; Madison St</td>\n",
              "    </tr>\n",
              "    <tr>\n",
              "      <th>2</th>\n",
              "      <td>Millennium Park</td>\n",
              "      <td>Clinton St &amp; Washington Blvd</td>\n",
              "    </tr>\n",
              "    <tr>\n",
              "      <th>3</th>\n",
              "      <td>Shedd Aquarium</td>\n",
              "      <td>Canal St &amp; Madison St</td>\n",
              "    </tr>\n",
              "    <tr>\n",
              "      <th>4</th>\n",
              "      <td>Michigan Ave &amp; Oak St</td>\n",
              "      <td>Daley Center Plaza</td>\n",
              "    </tr>\n",
              "    <tr>\n",
              "      <th>5</th>\n",
              "      <td>Lake Shore Dr &amp; North Blvd</td>\n",
              "      <td>Kingsbury St &amp; Kinzie St</td>\n",
              "    </tr>\n",
              "    <tr>\n",
              "      <th>6</th>\n",
              "      <td>Theater on the Lake</td>\n",
              "      <td>Michigan Ave &amp; Washington St</td>\n",
              "    </tr>\n",
              "    <tr>\n",
              "      <th>7</th>\n",
              "      <td>Adler Planetarium</td>\n",
              "      <td>Franklin St &amp; Monroe St</td>\n",
              "    </tr>\n",
              "    <tr>\n",
              "      <th>8</th>\n",
              "      <td>Dusable Harbor</td>\n",
              "      <td>Columbus Dr &amp; Randolph St</td>\n",
              "    </tr>\n",
              "    <tr>\n",
              "      <th>9</th>\n",
              "      <td>Michigan Ave &amp; Washington St</td>\n",
              "      <td>Orleans St &amp; Merchandise Mart Plaza</td>\n",
              "    </tr>\n",
              "  </tbody>\n",
              "</table>\n",
              "</div>"
            ],
            "text/plain": [
              "  Most visited station by Customers  Most visited station by Subscribers\n",
              "0           Streeter Dr & Grand Ave                  Canal St & Adams St\n",
              "1         Lake Shore Dr & Monroe St              Clinton St & Madison St\n",
              "2                   Millennium Park         Clinton St & Washington Blvd\n",
              "3                    Shedd Aquarium                Canal St & Madison St\n",
              "4             Michigan Ave & Oak St                   Daley Center Plaza\n",
              "5        Lake Shore Dr & North Blvd             Kingsbury St & Kinzie St\n",
              "6               Theater on the Lake         Michigan Ave & Washington St\n",
              "7                 Adler Planetarium              Franklin St & Monroe St\n",
              "8                    Dusable Harbor            Columbus Dr & Randolph St\n",
              "9      Michigan Ave & Washington St  Orleans St & Merchandise Mart Plaza"
            ]
          },
          "metadata": {
            "tags": []
          },
          "execution_count": 56
        }
      ]
    },
    {
      "cell_type": "code",
      "metadata": {
        "colab": {
          "base_uri": "https://localhost:8080/"
        },
        "id": "VPpgHkg2AGYO",
        "outputId": "2832bdca-a04a-4355-b662-280eadc0f9f8"
      },
      "source": [
        "df.shape"
      ],
      "execution_count": null,
      "outputs": [
        {
          "output_type": "execute_result",
          "data": {
            "text/plain": [
              "(3435523, 20)"
            ]
          },
          "metadata": {
            "tags": []
          },
          "execution_count": 58
        }
      ]
    },
    {
      "cell_type": "code",
      "metadata": {
        "colab": {
          "base_uri": "https://localhost:8080/",
          "height": 391
        },
        "id": "EB1r3UE0Ba1U",
        "outputId": "be8877c4-11d9-41fb-a41d-aacce19bc996"
      },
      "source": [
        "df.head()"
      ],
      "execution_count": null,
      "outputs": [
        {
          "output_type": "execute_result",
          "data": {
            "text/html": [
              "<div>\n",
              "<style scoped>\n",
              "    .dataframe tbody tr th:only-of-type {\n",
              "        vertical-align: middle;\n",
              "    }\n",
              "\n",
              "    .dataframe tbody tr th {\n",
              "        vertical-align: top;\n",
              "    }\n",
              "\n",
              "    .dataframe thead th {\n",
              "        text-align: right;\n",
              "    }\n",
              "</style>\n",
              "<table border=\"1\" class=\"dataframe\">\n",
              "  <thead>\n",
              "    <tr style=\"text-align: right;\">\n",
              "      <th></th>\n",
              "      <th>trip_id</th>\n",
              "      <th>start_time</th>\n",
              "      <th>end_time</th>\n",
              "      <th>bikeid</th>\n",
              "      <th>tripduration</th>\n",
              "      <th>from_station_id</th>\n",
              "      <th>from_station_name</th>\n",
              "      <th>to_station_id</th>\n",
              "      <th>to_station_name</th>\n",
              "      <th>usertype</th>\n",
              "      <th>gender</th>\n",
              "      <th>birthyear</th>\n",
              "      <th>ride_lenght</th>\n",
              "      <th>ride_lenght_min</th>\n",
              "      <th>day_of_week</th>\n",
              "      <th>year</th>\n",
              "      <th>month</th>\n",
              "      <th>day</th>\n",
              "      <th>season</th>\n",
              "      <th>date_offset</th>\n",
              "    </tr>\n",
              "  </thead>\n",
              "  <tbody>\n",
              "    <tr>\n",
              "      <th>0</th>\n",
              "      <td>17536702</td>\n",
              "      <td>2018-01-01 00:12:00</td>\n",
              "      <td>2018-01-01 00:17:23</td>\n",
              "      <td>3304</td>\n",
              "      <td>323.0</td>\n",
              "      <td>69</td>\n",
              "      <td>Damen Ave &amp; Pierce Ave</td>\n",
              "      <td>159</td>\n",
              "      <td>Claremont Ave &amp; Hirsch St</td>\n",
              "      <td>Subscriber</td>\n",
              "      <td>Male</td>\n",
              "      <td>1988.0</td>\n",
              "      <td>0 days 00:05:23</td>\n",
              "      <td>5</td>\n",
              "      <td>Mon</td>\n",
              "      <td>2018</td>\n",
              "      <td>Jan</td>\n",
              "      <td>1</td>\n",
              "      <td>winter</td>\n",
              "      <td>1081</td>\n",
              "    </tr>\n",
              "    <tr>\n",
              "      <th>1</th>\n",
              "      <td>17536703</td>\n",
              "      <td>2018-01-01 00:41:35</td>\n",
              "      <td>2018-01-01 00:47:52</td>\n",
              "      <td>5367</td>\n",
              "      <td>377.0</td>\n",
              "      <td>253</td>\n",
              "      <td>Winthrop Ave &amp; Lawrence Ave</td>\n",
              "      <td>325</td>\n",
              "      <td>Clark St &amp; Winnemac Ave (Temp)</td>\n",
              "      <td>Subscriber</td>\n",
              "      <td>Male</td>\n",
              "      <td>1984.0</td>\n",
              "      <td>0 days 00:06:17</td>\n",
              "      <td>6</td>\n",
              "      <td>Mon</td>\n",
              "      <td>2018</td>\n",
              "      <td>Jan</td>\n",
              "      <td>1</td>\n",
              "      <td>winter</td>\n",
              "      <td>1081</td>\n",
              "    </tr>\n",
              "    <tr>\n",
              "      <th>2</th>\n",
              "      <td>17536704</td>\n",
              "      <td>2018-01-01 00:44:46</td>\n",
              "      <td>2018-01-01 01:33:10</td>\n",
              "      <td>4599</td>\n",
              "      <td>2,904.0</td>\n",
              "      <td>98</td>\n",
              "      <td>LaSalle St &amp; Washington St</td>\n",
              "      <td>509</td>\n",
              "      <td>Troy St &amp; North Ave</td>\n",
              "      <td>Subscriber</td>\n",
              "      <td>Male</td>\n",
              "      <td>1989.0</td>\n",
              "      <td>0 days 00:48:24</td>\n",
              "      <td>48</td>\n",
              "      <td>Mon</td>\n",
              "      <td>2018</td>\n",
              "      <td>Jan</td>\n",
              "      <td>1</td>\n",
              "      <td>winter</td>\n",
              "      <td>1081</td>\n",
              "    </tr>\n",
              "    <tr>\n",
              "      <th>3</th>\n",
              "      <td>17536705</td>\n",
              "      <td>2018-01-01 00:53:10</td>\n",
              "      <td>2018-01-01 01:05:37</td>\n",
              "      <td>2302</td>\n",
              "      <td>747.0</td>\n",
              "      <td>125</td>\n",
              "      <td>Rush St &amp; Hubbard St</td>\n",
              "      <td>364</td>\n",
              "      <td>Larrabee St &amp; Oak St</td>\n",
              "      <td>Subscriber</td>\n",
              "      <td>Male</td>\n",
              "      <td>1983.0</td>\n",
              "      <td>0 days 00:12:27</td>\n",
              "      <td>12</td>\n",
              "      <td>Mon</td>\n",
              "      <td>2018</td>\n",
              "      <td>Jan</td>\n",
              "      <td>1</td>\n",
              "      <td>winter</td>\n",
              "      <td>1081</td>\n",
              "    </tr>\n",
              "    <tr>\n",
              "      <th>4</th>\n",
              "      <td>17536706</td>\n",
              "      <td>2018-01-01 00:53:37</td>\n",
              "      <td>2018-01-01 00:56:40</td>\n",
              "      <td>3696</td>\n",
              "      <td>183.0</td>\n",
              "      <td>129</td>\n",
              "      <td>Blue Island Ave &amp; 18th St</td>\n",
              "      <td>205</td>\n",
              "      <td>Paulina St &amp; 18th St</td>\n",
              "      <td>Subscriber</td>\n",
              "      <td>Male</td>\n",
              "      <td>1989.0</td>\n",
              "      <td>0 days 00:03:03</td>\n",
              "      <td>3</td>\n",
              "      <td>Mon</td>\n",
              "      <td>2018</td>\n",
              "      <td>Jan</td>\n",
              "      <td>1</td>\n",
              "      <td>winter</td>\n",
              "      <td>1081</td>\n",
              "    </tr>\n",
              "  </tbody>\n",
              "</table>\n",
              "</div>"
            ],
            "text/plain": [
              "    trip_id          start_time             end_time  ...  day  season  date_offset\n",
              "0  17536702 2018-01-01 00:12:00  2018-01-01 00:17:23  ...    1  winter         1081\n",
              "1  17536703 2018-01-01 00:41:35  2018-01-01 00:47:52  ...    1  winter         1081\n",
              "2  17536704 2018-01-01 00:44:46  2018-01-01 01:33:10  ...    1  winter         1081\n",
              "3  17536705 2018-01-01 00:53:10  2018-01-01 01:05:37  ...    1  winter         1081\n",
              "4  17536706 2018-01-01 00:53:37  2018-01-01 00:56:40  ...    1  winter         1081\n",
              "\n",
              "[5 rows x 20 columns]"
            ]
          },
          "metadata": {
            "tags": []
          },
          "execution_count": 60
        }
      ]
    },
    {
      "cell_type": "markdown",
      "metadata": {
        "id": "-3CJDyDzHjJu"
      },
      "source": [
        "# Conclusion\n",
        "In a few words, the summary of my analysis:\n",
        "\n",
        "* Casual riders tend to ride longer than subscribers.\n",
        "\n",
        "* The trip duration of casual riders varies a lot where the trip duration of subscribers is more constant.\n",
        "\n",
        "* Both casual riders and subscribers tend to ride more over the weekends.\n",
        "\n",
        "* Both casual riders and subscribers tend to ride longer in the summer and shorter in the winter, but the trip duration of subscribers are more constant than casual riders.\n",
        "\n",
        "* Stations commonly used by casual riders differ from station commonly used by subscribers.\n",
        "\n"
      ]
    },
    {
      "cell_type": "markdown",
      "metadata": {
        "id": "PHHG2vsCHCK0"
      },
      "source": [
        "# Recommendation\n",
        "Based on my analysis, my recommendation is:\n",
        "\n",
        "\n",
        "* Attract casual riders by adjusting the price of membership where it would be cheaper to have annual membership for riders who tend to take longer trips.\n",
        "\n",
        "* Run more ad campaigns over the weekends in the app.\n",
        "\n",
        "* Give attractive offers for annual memberships right before the beginning of summer.\n",
        "\n",
        "* Show more ads on the stations which are used more by the casual riders."
      ]
    },
    {
      "cell_type": "markdown",
      "metadata": {
        "id": "n_UveIXjI5-T"
      },
      "source": [
        "[Link to my article about the project](https://ekram49.github.io/2021-07-31-Cyclistic/)\n",
        "\n",
        "[My Github](https://github.com/Ekram49)\n",
        "\n",
        "[My LinkedIn](https://www.linkedin.com/in/ekram-ullah-ahmed/)"
      ]
    }
  ]
}